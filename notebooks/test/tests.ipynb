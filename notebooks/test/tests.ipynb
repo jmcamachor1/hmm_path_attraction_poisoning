{
 "cells": [
  {
   "cell_type": "code",
   "execution_count": 77,
   "metadata": {},
   "outputs": [],
   "source": [
    "import numpy as np\n",
    "from hmm_utils import HMM\n",
    "from attackers.smoothing_state_attacker import ss_attacker\n",
    "from attackers.decoding_attacker import dec_attacker\n",
    "from params import *\n",
    "from solvers.mc_ennumeration import MC_enumeration\n",
    "#from solvers.simulated_annealing import simulated_annealing\n",
    "#from solvers.aps_gibbs import aps_gibbs\n",
    "from solvers.nn_RS.nn_RS import *\n",
    "#from solvers.aps_gibbs_class import *\n",
    "\n",
    "from solvers.aps_gibbs_class_exp_decay import *\n",
    "from solvers.random_mc_ennumeration import *\n",
    "\n",
    "from scipy.special import softmax\n",
    "\n",
    "def ohe(x, n_obs):\n",
    "    return np.diag(np.ones(n_obs))[ x.astype(int) ]"
   ]
  },
  {
   "cell_type": "code",
   "execution_count": 78,
   "metadata": {},
   "outputs": [],
   "source": [
    "data = np.load(\"data/HMM_structure_experiment_comb3_X_30_T_10_Q_10.npy\", allow_pickle=True).tolist()\n",
    "priors     = data[\"prior\"]\n",
    "transition = data[\"trans\"]\n",
    "emission   = data[\"emiss\"]\n",
    "rho_probs = 1.0*np.ones(30)\n",
    "x_vector = data[\"X\"]"
   ]
  },
  {
   "cell_type": "code",
   "execution_count": 79,
   "metadata": {},
   "outputs": [],
   "source": [
    "hmm = HMM(n_components=10, n_obs=30 )\n",
    "hmm.emissionprob_ = emission\n",
    "hmm.transmat_     = transition\n",
    "hmm.startprob_    = priors\n"
   ]
  },
  {
   "cell_type": "code",
   "execution_count": 80,
   "metadata": {},
   "outputs": [
    {
     "data": {
      "text/plain": [
       "array([4, 5, 4, 2, 6, 7, 4, 0, 1, 2])"
      ]
     },
     "execution_count": 80,
     "metadata": {},
     "output_type": "execute_result"
    }
   ],
   "source": [
    "V, seq = hmm.nu(x_vector)\n",
    "seq"
   ]
  },
  {
   "cell_type": "code",
   "execution_count": 81,
   "metadata": {},
   "outputs": [],
   "source": [
    "attacker = dec_attacker(priors, transition, emission, rho_probs,\n",
    "         x_vector, w1 = 10.0 ,w2 = 0.0 , seq = 0*np.ones(10, dtype='int'), k_value=10000)"
   ]
  },
  {
   "cell_type": "markdown",
   "metadata": {},
   "source": [
    "# Random MC"
   ]
  },
  {
   "cell_type": "code",
   "execution_count": 82,
   "metadata": {},
   "outputs": [],
   "source": [
    "rmc = random_mc_ennumeration(attacker)"
   ]
  },
  {
   "cell_type": "code",
   "execution_count": 83,
   "metadata": {},
   "outputs": [],
   "source": [
    "z_star, quality = rmc.iterate(simulation_seconds=5)"
   ]
  },
  {
   "cell_type": "code",
   "execution_count": 84,
   "metadata": {},
   "outputs": [
    {
     "data": {
      "text/plain": [
       "121.86579762319757"
      ]
     },
     "execution_count": 84,
     "metadata": {},
     "output_type": "execute_result"
    }
   ],
   "source": [
    "quality"
   ]
  },
  {
   "cell_type": "code",
   "execution_count": 85,
   "metadata": {},
   "outputs": [
    {
     "data": {
      "text/plain": [
       "array([8, 0, 7, 5, 4, 0, 0, 9, 9, 1])"
      ]
     },
     "execution_count": 85,
     "metadata": {},
     "output_type": "execute_result"
    }
   ],
   "source": [
    "attack_obs = attacker.attack_X(np.ones_like(z_star), z_star)\n",
    "V, seq = hmm.nu(attack_obs.astype(int))\n",
    "seq"
   ]
  },
  {
   "cell_type": "markdown",
   "metadata": {},
   "source": [
    "# APS"
   ]
  },
  {
   "cell_type": "code",
   "execution_count": 86,
   "metadata": {},
   "outputs": [],
   "source": [
    "from solvers.aps_gibbs_class import aps_gibbs\n",
    "aps = aps_gibbs(attacker, np.arange(500, 10000, 10))"
   ]
  },
  {
   "cell_type": "code",
   "execution_count": 87,
   "metadata": {},
   "outputs": [],
   "source": [
    "z_star, quality = aps.iterate(simulation_seconds=5)"
   ]
  },
  {
   "cell_type": "code",
   "execution_count": 88,
   "metadata": {},
   "outputs": [
    {
     "data": {
      "text/plain": [
       "158.44692562050014"
      ]
     },
     "execution_count": 88,
     "metadata": {},
     "output_type": "execute_result"
    }
   ],
   "source": [
    "quality"
   ]
  },
  {
   "cell_type": "code",
   "execution_count": 89,
   "metadata": {},
   "outputs": [
    {
     "data": {
      "text/plain": [
       "array([0, 0, 0, 0, 0, 0, 0, 0, 0, 0])"
      ]
     },
     "execution_count": 89,
     "metadata": {},
     "output_type": "execute_result"
    }
   ],
   "source": [
    "attack_obs = attacker.attack_X(np.ones_like(z_star), z_star)\n",
    "V, seq = hmm.nu(attack_obs.astype(int))\n",
    "seq"
   ]
  },
  {
   "cell_type": "code",
   "execution_count": null,
   "metadata": {},
   "outputs": [],
   "source": []
  }
 ],
 "metadata": {
  "kernelspec": {
   "display_name": "Python 3 (ipykernel)",
   "language": "python",
   "name": "python3"
  },
  "language_info": {
   "codemirror_mode": {
    "name": "ipython",
    "version": 3
   },
   "file_extension": ".py",
   "mimetype": "text/x-python",
   "name": "python",
   "nbconvert_exporter": "python",
   "pygments_lexer": "ipython3",
   "version": "3.9.7"
  }
 },
 "nbformat": 4,
 "nbformat_minor": 4
}
