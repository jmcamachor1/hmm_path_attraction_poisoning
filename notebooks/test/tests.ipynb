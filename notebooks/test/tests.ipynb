{
 "cells": [
  {
   "cell_type": "code",
   "execution_count": 1,
   "metadata": {},
   "outputs": [],
   "source": [
    "import numpy as np\n",
    "from hmm_utils import HMM\n",
    "from attackers.smoothing_state_attacker import ss_attacker\n",
    "from attackers.decoding_attacker import dec_attacker\n",
    "from params import *\n",
    "from solvers.mc_ennumeration import MC_enumeration\n",
    "#from solvers.simulated_annealing import simulated_annealing\n",
    "#from solvers.aps_gibbs import aps_gibbs\n",
    "from solvers.nn_RS.nn_RS import *\n",
    "#from solvers.aps_gibbs_class import *\n",
    "\n",
    "from solvers.aps_gibbs_class_exp_decay import *\n",
    "from solvers.random_mc_ennumeration import *\n",
    "\n",
    "from scipy.special import softmax\n",
    "\n",
    "def ohe(x, n_obs):\n",
    "    return np.diag(np.ones(n_obs))[ x.astype(int) ]"
   ]
  },
  {
   "cell_type": "code",
   "execution_count": 2,
   "metadata": {},
   "outputs": [],
   "source": [
    "data = np.load(\"data/HMM_structure_experiment_comb3_X_30_T_10_Q_10.npy\", allow_pickle=True).tolist()\n",
    "priors     = data[\"prior\"]\n",
    "transition = data[\"trans\"]\n",
    "emission   = data[\"emiss\"]\n",
    "rho_probs = 1.0*np.ones(30)\n",
    "x_vector = data[\"X\"]"
   ]
  },
  {
   "cell_type": "code",
   "execution_count": 3,
   "metadata": {},
   "outputs": [],
   "source": [
    "hmm = HMM(n_components=10, n_obs=30 )\n",
    "hmm.emissionprob_ = emission\n",
    "hmm.transmat_     = transition\n",
    "hmm.startprob_    = priors\n"
   ]
  },
  {
   "cell_type": "code",
   "execution_count": 4,
   "metadata": {},
   "outputs": [
    {
     "data": {
      "text/plain": [
       "array([4, 5, 4, 2, 6, 7, 4, 0, 1, 2])"
      ]
     },
     "execution_count": 4,
     "metadata": {},
     "output_type": "execute_result"
    }
   ],
   "source": [
    "V, seq = hmm.nu(x_vector)\n",
    "seq"
   ]
  },
  {
   "cell_type": "code",
   "execution_count": 5,
   "metadata": {},
   "outputs": [],
   "source": [
    "attacker = dec_attacker(priors, transition, emission, rho_probs,\n",
    "         x_vector, w1 = 10.0 ,w2 = 0.0 , seq = 0*np.ones(10, dtype='int'), k_value=10000)"
   ]
  },
  {
   "cell_type": "code",
   "execution_count": 6,
   "metadata": {},
   "outputs": [],
   "source": [
    "N = 10"
   ]
  },
  {
   "cell_type": "markdown",
   "metadata": {},
   "source": [
    "# Random MC"
   ]
  },
  {
   "cell_type": "code",
   "execution_count": null,
   "metadata": {},
   "outputs": [],
   "source": [
    "rmc = random_mc_ennumeration(attacker)"
   ]
  },
  {
   "cell_type": "markdown",
   "metadata": {},
   "source": [
    "### t = 5s"
   ]
  },
  {
   "cell_type": "code",
   "execution_count": 12,
   "metadata": {},
   "outputs": [
    {
     "name": "stdout",
     "output_type": "stream",
     "text": [
      "0\n"
     ]
    },
    {
     "name": "stderr",
     "output_type": "stream",
     "text": [
      "/home/roi/MEGA/posdoc_icmat/projects/poisoning_hmms/hmm_utils.py:51: RuntimeWarning: divide by zero encountered in log\n",
      "  lemissionprob_ = np.log(self.emissionprob_)\n"
     ]
    },
    {
     "name": "stdout",
     "output_type": "stream",
     "text": [
      "1\n",
      "2\n",
      "3\n",
      "4\n",
      "5\n",
      "6\n",
      "7\n",
      "8\n",
      "9\n"
     ]
    }
   ],
   "source": [
    "qualities = np.zeros(N)\n",
    "for i in range(N):\n",
    "    print(i)\n",
    "    z_star, quality = rmc.iterate(simulation_seconds=5)\n",
    "    qualities[i] = quality"
   ]
  },
  {
   "cell_type": "code",
   "execution_count": 13,
   "metadata": {},
   "outputs": [
    {
     "name": "stdout",
     "output_type": "stream",
     "text": [
      "Mean Expected Utility 123.09743464463108\n",
      "Std Expected Utility 1.698970681094775\n"
     ]
    }
   ],
   "source": [
    "print(\"Mean Expected Utility\", np.mean(qualities) )\n",
    "print(\"Std Expected Utility\", np.std(qualities) )"
   ]
  },
  {
   "cell_type": "markdown",
   "metadata": {},
   "source": [
    "### t = 60s"
   ]
  },
  {
   "cell_type": "code",
   "execution_count": 14,
   "metadata": {},
   "outputs": [
    {
     "name": "stdout",
     "output_type": "stream",
     "text": [
      "0\n",
      "1\n",
      "2\n",
      "3\n",
      "4\n",
      "5\n",
      "6\n",
      "7\n",
      "8\n",
      "9\n"
     ]
    }
   ],
   "source": [
    "qualities = np.zeros(N)\n",
    "for i in range(N):\n",
    "    print(i)\n",
    "    z_star, quality = rmc.iterate(simulation_seconds=60)\n",
    "    qualities[i] = quality"
   ]
  },
  {
   "cell_type": "code",
   "execution_count": 15,
   "metadata": {},
   "outputs": [
    {
     "name": "stdout",
     "output_type": "stream",
     "text": [
      "Mean Expected Utility 127.51966633731547\n",
      "Std Expected Utility 2.18838051637791\n"
     ]
    }
   ],
   "source": [
    "print(\"Mean Expected Utility\", np.mean(qualities) )\n",
    "print(\"Std Expected Utility\", np.std(qualities) )"
   ]
  },
  {
   "cell_type": "markdown",
   "metadata": {},
   "source": [
    "# APS"
   ]
  },
  {
   "cell_type": "code",
   "execution_count": 19,
   "metadata": {},
   "outputs": [],
   "source": [
    "from solvers.aps_gibbs_class import aps_gibbs\n",
    "aps = aps_gibbs(attacker, np.arange(500, 10000, 10))"
   ]
  },
  {
   "cell_type": "markdown",
   "metadata": {},
   "source": [
    "### t = 5s"
   ]
  },
  {
   "cell_type": "code",
   "execution_count": 20,
   "metadata": {},
   "outputs": [
    {
     "name": "stdout",
     "output_type": "stream",
     "text": [
      "0\n",
      "1\n",
      "2\n",
      "3\n",
      "4\n",
      "5\n",
      "6\n",
      "7\n",
      "8\n",
      "9\n"
     ]
    }
   ],
   "source": [
    "qualities = np.zeros(N)\n",
    "for i in range(N):\n",
    "    print(i)\n",
    "    z_star, quality = aps.iterate(simulation_seconds=5)\n",
    "    qualities[i] = quality"
   ]
  },
  {
   "cell_type": "code",
   "execution_count": 21,
   "metadata": {},
   "outputs": [
    {
     "name": "stdout",
     "output_type": "stream",
     "text": [
      "Mean Expected Utility 158.2838559386976\n",
      "Std Expected Utility 0.47801000283714906\n"
     ]
    }
   ],
   "source": [
    "print(\"Mean Expected Utility\", np.mean(qualities) )\n",
    "print(\"Std Expected Utility\", np.std(qualities) )"
   ]
  },
  {
   "cell_type": "markdown",
   "metadata": {},
   "source": [
    "### t = 60s"
   ]
  },
  {
   "cell_type": "code",
   "execution_count": 22,
   "metadata": {},
   "outputs": [
    {
     "name": "stdout",
     "output_type": "stream",
     "text": [
      "0\n",
      "1\n",
      "2\n",
      "3\n",
      "4\n",
      "5\n",
      "6\n",
      "7\n",
      "8\n",
      "9\n"
     ]
    }
   ],
   "source": [
    "qualities = np.zeros(N)\n",
    "for i in range(N):\n",
    "    print(i)\n",
    "    z_star, quality = aps.iterate(simulation_seconds=60)\n",
    "    qualities[i] = quality"
   ]
  },
  {
   "cell_type": "code",
   "execution_count": 23,
   "metadata": {},
   "outputs": [
    {
     "name": "stdout",
     "output_type": "stream",
     "text": [
      "Mean Expected Utility 157.56709603145208\n",
      "Std Expected Utility 1.789653854139626\n"
     ]
    }
   ],
   "source": [
    "print(\"Mean Expected Utility\", np.mean(qualities) )\n",
    "print(\"Std Expected Utility\", np.std(qualities) )"
   ]
  },
  {
   "cell_type": "code",
   "execution_count": 25,
   "metadata": {},
   "outputs": [
    {
     "data": {
      "text/plain": [
       "array([0, 0, 0, 8, 0, 0, 8, 0, 0, 0])"
      ]
     },
     "execution_count": 25,
     "metadata": {},
     "output_type": "execute_result"
    }
   ],
   "source": [
    "attack_obs = attacker.attack_X(np.ones_like(z_star), z_star)\n",
    "V, seq = hmm.nu(attack_obs.astype(int))\n",
    "seq"
   ]
  },
  {
   "cell_type": "markdown",
   "metadata": {},
   "source": [
    "# R&S with Simulated Annealing - 16x8 - lr=0.005 - eps=0.1"
   ]
  },
  {
   "cell_type": "markdown",
   "metadata": {},
   "source": [
    "### t = 60s"
   ]
  },
  {
   "cell_type": "code",
   "execution_count": 7,
   "metadata": {},
   "outputs": [
    {
     "name": "stdout",
     "output_type": "stream",
     "text": [
      "0\n"
     ]
    },
    {
     "name": "stderr",
     "output_type": "stream",
     "text": [
      "/home/roi/anaconda3/lib/python3.9/site-packages/torch/nn/modules/loss.py:529: UserWarning: Using a target size (torch.Size([1])) that is different to the input size (torch.Size([])). This will likely lead to incorrect results due to broadcasting. Please ensure they have the same size.\n",
      "  return F.mse_loss(input, target, reduction=self.reduction)\n",
      "/home/roi/MEGA/posdoc_icmat/projects/poisoning_hmms/hmm_utils.py:51: RuntimeWarning: divide by zero encountered in log\n",
      "  lemissionprob_ = np.log(self.emissionprob_)\n"
     ]
    },
    {
     "name": "stdout",
     "output_type": "stream",
     "text": [
      "140.79687939382663\n",
      "1\n",
      "137.71518750896283\n",
      "2\n",
      "130.95413848905184\n",
      "3\n",
      "145.14167779325567\n",
      "4\n",
      "129.96249453769457\n",
      "5\n",
      "137.5365742934206\n",
      "6\n",
      "136.67935279834873\n",
      "7\n",
      "125.92008878147125\n",
      "8\n",
      "137.77642920006804\n",
      "9\n",
      "143.5637379245088\n"
     ]
    }
   ],
   "source": [
    "from solvers.nn_RS.nn_RS import *\n",
    "qualities = np.zeros(N)\n",
    "\n",
    "for i in range(N):\n",
    "    rs = nn_RS(attacker, flag='SA', RS_iters=5000, mcts_iters=50, sa_iters=20, eps=0.1, lr=0.005)\n",
    "    print(i)\n",
    "    z_star, quality = rs.iterate(simulation_seconds=60)\n",
    "    qualities[i] = quality\n",
    "    print(quality)"
   ]
  },
  {
   "cell_type": "code",
   "execution_count": 8,
   "metadata": {},
   "outputs": [
    {
     "name": "stdout",
     "output_type": "stream",
     "text": [
      "Mean Expected Utility 136.6046560720609\n",
      "Std Expected Utility 5.766899660792735\n"
     ]
    }
   ],
   "source": [
    "print(\"Mean Expected Utility\", np.mean(qualities) )\n",
    "print(\"Std Expected Utility\", np.std(qualities) )"
   ]
  }
 ],
 "metadata": {
  "kernelspec": {
   "display_name": "Python 3 (ipykernel)",
   "language": "python",
   "name": "python3"
  },
  "language_info": {
   "codemirror_mode": {
    "name": "ipython",
    "version": 3
   },
   "file_extension": ".py",
   "mimetype": "text/x-python",
   "name": "python",
   "nbconvert_exporter": "python",
   "pygments_lexer": "ipython3",
   "version": "3.9.7"
  }
 },
 "nbformat": 4,
 "nbformat_minor": 4
}
