{
 "cells": [
  {
   "cell_type": "code",
   "execution_count": 2,
   "metadata": {},
   "outputs": [
    {
     "ename": "ModuleNotFoundError",
     "evalue": "No module named 'seaborn'",
     "output_type": "error",
     "traceback": [
      "\u001b[0;31m---------------------------------------------------------------------------\u001b[0m",
      "\u001b[0;31mModuleNotFoundError\u001b[0m                       Traceback (most recent call last)",
      "\u001b[0;32m<ipython-input-2-aa29ebf6ebb4>\u001b[0m in \u001b[0;36m<module>\u001b[0;34m\u001b[0m\n\u001b[1;32m      4\u001b[0m \u001b[0;32mfrom\u001b[0m \u001b[0mextra\u001b[0m \u001b[0;32mimport\u001b[0m \u001b[0mmonte_carlo_enumeration\u001b[0m\u001b[0;34m\u001b[0m\u001b[0;34m\u001b[0m\u001b[0m\n\u001b[1;32m      5\u001b[0m \u001b[0;32mfrom\u001b[0m \u001b[0mcollections\u001b[0m \u001b[0;32mimport\u001b[0m \u001b[0mCounter\u001b[0m\u001b[0;34m\u001b[0m\u001b[0;34m\u001b[0m\u001b[0m\n\u001b[0;32m----> 6\u001b[0;31m \u001b[0;32mimport\u001b[0m \u001b[0mseaborn\u001b[0m \u001b[0;32mas\u001b[0m \u001b[0msns\u001b[0m\u001b[0;34m\u001b[0m\u001b[0;34m\u001b[0m\u001b[0m\n\u001b[0m",
      "\u001b[0;31mModuleNotFoundError\u001b[0m: No module named 'seaborn'"
     ]
    }
   ],
   "source": [
    "import numpy as np\n",
    "from hmm_utils import HMM\n",
    "from smoothing_state_attacker import ss_attacker\n",
    "from extra import monte_carlo_enumeration\n",
    "from collections import Counter\n",
    "import seaborn as sns"
   ]
  },
  {
   "cell_type": "code",
   "execution_count": 10,
   "metadata": {},
   "outputs": [
    {
     "name": "stdout",
     "output_type": "stream",
     "text": [
      "\r\n",
      "Usage:   \r\n",
      "  pip install [options] <requirement specifier> [package-index-options] ...\r\n",
      "  pip install [options] -r <requirements file> [package-index-options] ...\r\n",
      "  pip install [options] [-e] <vcs project url> ...\r\n",
      "  pip install [options] [-e] <local project path> ...\r\n",
      "  pip install [options] <archive url/path> ...\r\n",
      "\r\n",
      "no such option: -u\r\n"
     ]
    }
   ],
   "source": [
    "!pip install -user upgrade matplotlib"
   ]
  },
  {
   "cell_type": "code",
   "execution_count": 2,
   "metadata": {},
   "outputs": [
    {
     "name": "stdout",
     "output_type": "stream",
     "text": [
      "Package         Version\r\n",
      "--------------- ---------\r\n",
      "Bottleneck      1.3.2\r\n",
      "certifi         2021.10.8\r\n",
      "cycler          0.11.0\r\n",
      "fonttools       4.25.0\r\n",
      "hmmlearn        0.2.6\r\n",
      "joblib          1.1.0\r\n",
      "kiwisolver      1.3.1\r\n",
      "matplotlib      3.5.1\r\n",
      "mkl-fft         1.3.1\r\n",
      "mkl-random      1.2.2\r\n",
      "mkl-service     2.4.0\r\n",
      "munkres         1.1.4\r\n",
      "numexpr         2.8.1\r\n",
      "numpy           1.21.0\r\n",
      "olefile         0.46\r\n",
      "packaging       21.3\r\n",
      "pandas          1.2.5\r\n",
      "Pillow          8.4.0\r\n",
      "pip             21.2.4\r\n",
      "pyparsing       3.0.4\r\n",
      "python-dateutil 2.8.2\r\n",
      "pytz            2021.1\r\n",
      "scikit-learn    1.0.2\r\n",
      "scipy           1.8.0\r\n",
      "setuptools      58.0.4\r\n",
      "sip             4.19.13\r\n",
      "six             1.16.0\r\n",
      "threadpoolctl   3.1.0\r\n",
      "tornado         6.1\r\n",
      "tqdm            4.62.3\r\n",
      "wheel           0.37.1\r\n"
     ]
    }
   ],
   "source": []
  },
  {
   "cell_type": "code",
   "execution_count": 4,
   "metadata": {},
   "outputs": [],
   "source": [
    "#HMM A , B, pi\n",
    "\n",
    "priors     = np.array([0.5,0.3,0.2])\n",
    "transition = np.array([[0.85, 0.05,0.1],\n",
    "                       [0.05, 0.9,0.05],\n",
    "                        [1/2, 1/4, 1/4]])\n",
    "emission   = np.array([[1/6, 1/6, 1/6, 1/6, 1/6, 1/6],\n",
    "                    [0.1, 0.1, 0.1, 0.1, 0.1, 0.5],\n",
    "                       [0.1, 0.1, 0.1, 0.1, 0.1, 0.5]])"
   ]
  },
  {
   "cell_type": "code",
   "execution_count": 5,
   "metadata": {},
   "outputs": [],
   "source": [
    "# initialize HMM\n",
    "hmm = HMM(n_components=3,n_obs=6)\n",
    "hmm.startprob_ = priors\n",
    "hmm.transmat_ = transition\n",
    "hmm.emissionprob_ = emission"
   ]
  },
  {
   "cell_type": "code",
   "execution_count": 7,
   "metadata": {},
   "outputs": [],
   "source": [
    "def linspace(start, stop, step=1.):\n",
    "  \"\"\"\n",
    "    Like np.linspace but uses step instead of num\n",
    "    This is inclusive to stop, so if start=1, stop=3, step=0.5\n",
    "    Output is: array([1., 1.5, 2., 2.5, 3.])\n",
    "  \"\"\"\n",
    "  return np.linspace(start, stop, int((stop - start) / step + 1))\n"
   ]
  },
  {
   "cell_type": "code",
   "execution_count": 8,
   "metadata": {},
   "outputs": [],
   "source": [
    "x_vector = np.array([ [5], [3], [4], [3], [5]])\n",
    "f1_attacker = ss_attacker(w1 = 1 ,w2= 0 ,t = 2, state= 0,c=1)\n",
    "f2_attacker = ss_attacker(w1 = 0 ,w2= 1 ,t = 2, state= 0,c=1)\n",
    "f1_utilities = monte_carlo_enumeration(hmm, 100, f1_attacker,  1, x_vector)[1]\n",
    "f2_utilities = monte_carlo_enumeration(hmm, 100, f2_attacker,  1, x_vector)[1]\n",
    "w1_range = linspace(0.1, 5, step= 0.1)\n",
    "w2_range = linspace(0.1, 5, step= 0.1)\n",
    "w1_w2_grid = np.array(np.meshgrid(w1_range, w2_range)).T.reshape(-1,2)"
   ]
  },
  {
   "cell_type": "code",
   "execution_count": 18,
   "metadata": {},
   "outputs": [
    {
     "data": {
      "text/plain": [
       "array([-5., -5., -5., ..., -4., -4., -3.])"
      ]
     },
     "execution_count": 18,
     "metadata": {},
     "output_type": "execute_result"
    }
   ],
   "source": [
    "f2_utilities"
   ]
  },
  {
   "cell_type": "code",
   "execution_count": null,
   "metadata": {},
   "outputs": [],
   "source": [
    "3 * f1_utilities"
   ]
  },
  {
   "cell_type": "code",
   "execution_count": 12,
   "metadata": {},
   "outputs": [],
   "source": [
    "Z_set = hmm.generate_z(len(x_vector))\n",
    "ind_list = []\n",
    "for comb in w1_w2_grid:\n",
    "    w1, w2 = comb\n",
    "    utility_vector = w1 * f1_utilities + w2 * f2_utilities\n",
    "    max_indx = np.argmax(utility_vector)\n",
    "    ind_list.append(max_indx)\n"
   ]
  },
  {
   "cell_type": "code",
   "execution_count": 1,
   "metadata": {},
   "outputs": [
    {
     "ename": "NameError",
     "evalue": "name 'ss_attacker' is not defined",
     "output_type": "error",
     "traceback": [
      "\u001b[0;31m---------------------------------------------------------------------------\u001b[0m",
      "\u001b[0;31mNameError\u001b[0m                                 Traceback (most recent call last)",
      "\u001b[0;32m<ipython-input-1-0bab4fc1b695>\u001b[0m in \u001b[0;36m<module>\u001b[0;34m\u001b[0m\n\u001b[1;32m      2\u001b[0m \u001b[0mratio_step\u001b[0m \u001b[0;34m=\u001b[0m \u001b[0;36m0.1\u001b[0m\u001b[0;34m\u001b[0m\u001b[0;34m\u001b[0m\u001b[0m\n\u001b[1;32m      3\u001b[0m \u001b[0mfinal_ratio\u001b[0m \u001b[0;34m=\u001b[0m \u001b[0;36m5\u001b[0m\u001b[0;34m\u001b[0m\u001b[0;34m\u001b[0m\u001b[0m\n\u001b[0;32m----> 4\u001b[0;31m \u001b[0mss_att\u001b[0m \u001b[0;34m=\u001b[0m \u001b[0mss_attacker\u001b[0m\u001b[0;34m(\u001b[0m\u001b[0mw1\u001b[0m \u001b[0;34m=\u001b[0m \u001b[0;36m1\u001b[0m \u001b[0;34m,\u001b[0m\u001b[0mw2\u001b[0m\u001b[0;34m=\u001b[0m \u001b[0;36m0\u001b[0m \u001b[0;34m,\u001b[0m\u001b[0mt\u001b[0m \u001b[0;34m=\u001b[0m \u001b[0;36m2\u001b[0m\u001b[0;34m,\u001b[0m \u001b[0mstate\u001b[0m\u001b[0;34m=\u001b[0m \u001b[0;36m0\u001b[0m\u001b[0;34m,\u001b[0m\u001b[0mc\u001b[0m\u001b[0;34m=\u001b[0m\u001b[0;36m1\u001b[0m\u001b[0;34m)\u001b[0m\u001b[0;34m\u001b[0m\u001b[0;34m\u001b[0m\u001b[0m\n\u001b[0m\u001b[1;32m      5\u001b[0m \u001b[0mdiff_list\u001b[0m \u001b[0;34m=\u001b[0m \u001b[0;34m[\u001b[0m\u001b[0;34m]\u001b[0m\u001b[0;34m\u001b[0m\u001b[0;34m\u001b[0m\u001b[0m\n\u001b[1;32m      6\u001b[0m \u001b[0mratio_list\u001b[0m \u001b[0;34m=\u001b[0m \u001b[0;34m[\u001b[0m\u001b[0;34m]\u001b[0m\u001b[0;34m\u001b[0m\u001b[0;34m\u001b[0m\u001b[0m\n",
      "\u001b[0;31mNameError\u001b[0m: name 'ss_attacker' is not defined"
     ]
    }
   ],
   "source": [
    "## ratio plots\n",
    "ratio_step = 0.1\n",
    "final_ratio = 5\n",
    "ss_att = ss_attacker(w1 = 1 ,w2= 0 ,t = 2, state= 0,c=1)\n",
    "diff_list = []\n",
    "ratio_list = []\n",
    "for r in range(int(final_number/ratio)):\n",
    "    utility_vector = w1 * f1_utilities + f2_utilities\n",
    "    max_indx = np.argmax(utility_vector)\n",
    "    z_star = Z_set[max_indx]\n",
    "    y_vec =  hmm.attack_X(x_vector.reshape(5,1), np.ones([len(x_vector),6]),z_star).astype('int')\n",
    "    compute_prob_att = ss_attacker(w1 = ss_att.w1 ,w2= ss_att.w2,t = ss_att.t, state=ss_att.state ,c=1)\n",
    "    p_untainted_data = compute_prob_att.state_attraction_repulsion_f1(alpha = hmm.alpha(x_vector), beta = hmm.beta(x_vector))\n",
    "    p_tainted_data = compute_prob_att.state_attraction_repulsion_f1(alpha = hmm.alpha(y_vec), beta = hmm.beta(y_vec))\n",
    "    ratio_list.append(r)\n",
    "    diff_list.append(abs(p_tainted_data - p_untainted_data))\n",
    "    r+=0.1"
   ]
  },
  {
   "cell_type": "code",
   "execution_count": 26,
   "metadata": {},
   "outputs": [
    {
     "ename": "NameError",
     "evalue": "name 'plt' is not defined",
     "output_type": "error",
     "traceback": [
      "\u001b[0;31m---------------------------------------------------------------------------\u001b[0m",
      "\u001b[0;31mNameError\u001b[0m                                 Traceback (most recent call last)",
      "\u001b[0;32m<ipython-input-26-5eee0c3e474f>\u001b[0m in \u001b[0;36m<module>\u001b[0;34m\u001b[0m\n\u001b[0;32m----> 1\u001b[0;31m \u001b[0mplt\u001b[0m\u001b[0;34m.\u001b[0m\u001b[0mplt\u001b[0m\u001b[0;34m(\u001b[0m\u001b[0mratio_list\u001b[0m\u001b[0;34m,\u001b[0m \u001b[0mdiff_list\u001b[0m\u001b[0;34m)\u001b[0m\u001b[0;34m\u001b[0m\u001b[0;34m\u001b[0m\u001b[0m\n\u001b[0m",
      "\u001b[0;31mNameError\u001b[0m: name 'plt' is not defined"
     ]
    }
   ],
   "source": [
    "plt.plt(ratio_list, diff_list)"
   ]
  },
  {
   "cell_type": "code",
   "execution_count": null,
   "metadata": {},
   "outputs": [],
   "source": [
    "z_star = monte_carlo_enumeration(hmm, k_value, ss_att, N, x_vector)[0]\n",
    "\n",
    "y_vec =  hmm.attack_X(x_vector.reshape(5,1), np.ones([len(x_vector),6]),z_star).astype('int')\n",
    "\n",
    "compute_prob_att = ss_attacker(w1 = ss_att.w1 ,w2= ss_att.w2,t = ss_att.t, state=ss_att.state,c=1)\n",
    "p_untainted_data = compute_prob_att.state_attraction_repulsion_f1(alpha = hmm.alpha(x_vector), beta = hmm.beta(x_vector))\n",
    "p_tainted_data = compute_prob_att.state_attraction_repulsion_f1(alpha = hmm.alpha(y_vec), beta = hmm.beta(y_vec))\n",
    "\n",
    "print('Best attack',  z_star)\n",
    "\n",
    "print('..............................................................')\n",
    "\n",
    "print('Probability of state ' , ss_att.state  ,' on untainted data: ', p_untainted_data )\n",
    "\n",
    "print('...............................................................')\n",
    "\n",
    "print('Probability of state ' , ss_att.state ,' on tainted data: ', p_tainted_data)"
   ]
  },
  {
   "cell_type": "code",
   "execution_count": 16,
   "metadata": {},
   "outputs": [
    {
     "data": {
      "text/plain": [
       "array([[0., 0., 0., 0., 0., 1.],\n",
       "       [0., 0., 0., 1., 0., 0.],\n",
       "       [0., 0., 0., 0., 1., 0.],\n",
       "       [0., 0., 0., 1., 0., 0.],\n",
       "       [0., 0., 0., 0., 0., 1.]])"
      ]
     },
     "execution_count": 16,
     "metadata": {},
     "output_type": "execute_result"
    }
   ],
   "source": [
    "Z_set[7295]"
   ]
  },
  {
   "cell_type": "code",
   "execution_count": 15,
   "metadata": {},
   "outputs": [
    {
     "data": {
      "text/plain": [
       "Counter({7295: 2261, 3407: 216, 3405: 23})"
      ]
     },
     "execution_count": 15,
     "metadata": {},
     "output_type": "execute_result"
    }
   ],
   "source": [
    "Counter(ind_list)"
   ]
  },
  {
   "cell_type": "code",
   "execution_count": 56,
   "metadata": {},
   "outputs": [
    {
     "data": {
      "text/plain": [
       "array([0.1, 0.2, 0.3, 0.4, 0.5, 0.6, 0.7, 0.8, 0.9, 1. , 1.1, 1.2, 1.3,\n",
       "       1.4, 1.5, 1.6, 1.7, 1.8, 1.9, 2. , 2.1, 2.2, 2.3, 2.4, 2.5, 2.6,\n",
       "       2.7, 2.8, 2.9, 3. , 3.1, 3.2, 3.3, 3.4, 3.5, 3.6, 3.7, 3.8, 3.9,\n",
       "       4. , 4.1, 4.2, 4.3, 4.4, 4.5, 4.6, 4.7, 4.8, 4.9, 5. ])"
      ]
     },
     "execution_count": 56,
     "metadata": {},
     "output_type": "execute_result"
    }
   ],
   "source": [
    "w2_range"
   ]
  },
  {
   "cell_type": "code",
   "execution_count": 33,
   "metadata": {},
   "outputs": [
    {
     "name": "stdout",
     "output_type": "stream",
     "text": [
      "[0 1]\n",
      "[  0 111]\n",
      "[0 1]\n",
      "[0 1]\n",
      "[0 1]\n",
      "[0 1]\n",
      "[0 1]\n",
      "[0 1]\n",
      "[ 0 12]\n",
      "[0 1]\n",
      "[0 1]\n",
      "[1 1]\n",
      "[  1 111]\n",
      "[1 1]\n",
      "[1 1]\n",
      "[1 1]\n",
      "[1 1]\n",
      "[1 1]\n",
      "[1 1]\n",
      "[ 1 12]\n",
      "[1 1]\n",
      "[1 1]\n"
     ]
    }
   ],
   "source": [
    " for i  in (np.array(np.meshgrid([0,1], [1,111,1,1,1,1,1,1,12,1,1])).T.reshape(-1,2)):\n",
    "        print(i)"
   ]
  },
  {
   "cell_type": "code",
   "execution_count": 35,
   "metadata": {},
   "outputs": [
    {
     "name": "stdout",
     "output_type": "stream",
     "text": [
      "[1 1]\n"
     ]
    }
   ],
   "source": [
    "print(i)"
   ]
  },
  {
   "cell_type": "code",
   "execution_count": 36,
   "metadata": {},
   "outputs": [
    {
     "data": {
      "text/plain": [
       "array([[0., 0., 0., 0., 0., 1.],\n",
       "       [0., 0., 0., 1., 0., 0.],\n",
       "       [0., 0., 0., 0., 1., 0.],\n",
       "       [0., 0., 0., 1., 0., 0.],\n",
       "       [0., 0., 0., 0., 0., 1.]])"
      ]
     },
     "execution_count": 36,
     "metadata": {},
     "output_type": "execute_result"
    }
   ],
   "source": [
    "a"
   ]
  },
  {
   "cell_type": "code",
   "execution_count": 46,
   "metadata": {},
   "outputs": [
    {
     "data": {
      "text/plain": [
       "array([0.1, 0.2, 0.3, 0.4, 0.5, 0.6, 0.7, 0.8, 0.9, 1. ])"
      ]
     },
     "execution_count": 46,
     "metadata": {},
     "output_type": "execute_result"
    }
   ],
   "source": [
    "linspace(0.1, 1, 0.1)"
   ]
  },
  {
   "cell_type": "code",
   "execution_count": null,
   "metadata": {},
   "outputs": [],
   "source": [
    "w1 = linspace(start, stop, step=1.)\n",
    "w2 = "
   ]
  }
 ],
 "metadata": {
  "kernelspec": {
   "display_name": "Python 3",
   "language": "python",
   "name": "python3"
  },
  "language_info": {
   "codemirror_mode": {
    "name": "ipython",
    "version": 3
   },
   "file_extension": ".py",
   "mimetype": "text/x-python",
   "name": "python",
   "nbconvert_exporter": "python",
   "pygments_lexer": "ipython3",
   "version": "3.8.10"
  },
  "toc": {
   "base_numbering": 1,
   "nav_menu": {},
   "number_sections": true,
   "sideBar": true,
   "skip_h1_title": false,
   "title_cell": "Table of Contents",
   "title_sidebar": "Contents",
   "toc_cell": false,
   "toc_position": {},
   "toc_section_display": true,
   "toc_window_display": false
  }
 },
 "nbformat": 4,
 "nbformat_minor": 4
}
