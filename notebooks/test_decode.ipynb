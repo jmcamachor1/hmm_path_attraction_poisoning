{
 "cells": [
  {
   "cell_type": "code",
   "execution_count": 1,
   "id": "b0924f17",
   "metadata": {},
   "outputs": [],
   "source": [
    "import numpy as np\n",
    "from hmm_utils import HMM"
   ]
  },
  {
   "cell_type": "code",
   "execution_count": 2,
   "id": "f10d1ff6",
   "metadata": {},
   "outputs": [],
   "source": [
    "priors     = np.array([0.5,0.3,0.2])\n",
    "transition = np.array([[0.85, 0.05,0.1],\n",
    "                       [0.05, 0.9,0.05],\n",
    "                        [1/2, 1/4, 1/4]])\n",
    "emission   = np.array([[0.699, 0.05, 0.1, 0.05, 0.1, 0.001],\n",
    "                    [0.001, 0.1, 0.1, 0.299, 0.3, 0.2],\n",
    "                       [0.1, 0.2, 0.1, 0.2, 0.1, 0.3]])\n",
    "\n",
    "x_vector = np.array([ [4], [0], [0], [0], [5] ])"
   ]
  },
  {
   "cell_type": "code",
   "execution_count": 3,
   "id": "af6c772d",
   "metadata": {},
   "outputs": [],
   "source": [
    "hmm = HMM(n_components=3, n_obs=6 )\n",
    "hmm.emissionprob_ = emission\n",
    "hmm.transmat_     = transition\n",
    "hmm.startprob_    = priors"
   ]
  },
  {
   "cell_type": "code",
   "execution_count": 4,
   "id": "dd88d5cf",
   "metadata": {},
   "outputs": [
    {
     "data": {
      "text/plain": [
       "array([[ -2.99573227,  -2.40794561,  -3.91202301],\n",
       "       [ -3.51635574,  -9.4210614 ,  -7.60090246],\n",
       "       [ -4.03697921, -13.41984329,  -8.12152593],\n",
       "       [ -4.55760267, -13.94046676,  -8.64214939],\n",
       "       [-11.62787688,  -9.16277286,  -8.06416057]])"
      ]
     },
     "execution_count": 4,
     "metadata": {},
     "output_type": "execute_result"
    }
   ],
   "source": [
    "V, seq = hmm.nu(x_vector)\n",
    "V"
   ]
  },
  {
   "cell_type": "code",
   "execution_count": 5,
   "id": "11d60136",
   "metadata": {},
   "outputs": [
    {
     "data": {
      "text/plain": [
       "(-8.064160569612278, array([0, 0, 0, 0, 2]))"
      ]
     },
     "execution_count": 5,
     "metadata": {},
     "output_type": "execute_result"
    }
   ],
   "source": [
    "hmm.decode(x_vector)"
   ]
  },
  {
   "cell_type": "code",
   "execution_count": null,
   "id": "e7f2d6ae",
   "metadata": {},
   "outputs": [],
   "source": []
  }
 ],
 "metadata": {
  "kernelspec": {
   "display_name": "Python 3 (ipykernel)",
   "language": "python",
   "name": "python3"
  },
  "language_info": {
   "codemirror_mode": {
    "name": "ipython",
    "version": 3
   },
   "file_extension": ".py",
   "mimetype": "text/x-python",
   "name": "python",
   "nbconvert_exporter": "python",
   "pygments_lexer": "ipython3",
   "version": "3.9.7"
  }
 },
 "nbformat": 4,
 "nbformat_minor": 5
}
