{
 "cells": [
  {
   "cell_type": "code",
   "execution_count": 3,
   "metadata": {},
   "outputs": [],
   "source": [
    "import numpy as np"
   ]
  },
  {
   "cell_type": "code",
   "execution_count": 151,
   "metadata": {},
   "outputs": [],
   "source": [
    "def compute_1st_part_y_t(z_matrix, rho_matrix, n_observations):\n",
    "    n_observations = z_matrix.shape[1]\n",
    "    j_obs = np.arange(0,n_observations)\n",
    "    return np.dot(z_matrix* rho_matrix, j_obs)\n",
    "\n",
    "def compute_2nd_part_y_t(z_matrix, rho_matrix, x_vector):\n",
    "    return np.sum(z_matrix *(1-rho_matrix)* x_vector, axis = 1)\n",
    "\n",
    "def compute_y_t(z_matrix, rho_matrix, x_vector):\n",
    "    t, n_obs = z_matrix.shape\n",
    "    y_t_1 = compute_1st_part_y_t(z_matrix, rho_matrix, n_obs)\n",
    "    y_t_2 = compute_2nd_part_y_t(z_matrix, rho_matrix, x_vector)\n",
    "    y_t = (y_t_1 + y_t_2).reshape(t,1)\n",
    "    return y_t\n",
    "def state_attraction_repulsion_f1(alpha_t,beta_t,c):\n",
    "    #state: int state in (0,n_states-1)\n",
    "    #alpha_t: np.array shape(n_states,)\n",
    "    #beta_t: np.array shape(n_states,)\n",
    "    #c int\n",
    "    numerator = alpha_t + beta_t\n",
    "    denominator = np.sum(numerator ,axis=0)\n",
    "    result = c * (numerator - denominator)\n",
    "    return result\n",
    "\n",
    "def f2_function(z_matrix, x_obs_vector):\n",
    "    t = z_matrix.shape[0]\n",
    "    z_vector = np.where(z_matrix == 1)[1].reshape(t,1)\n",
    "    vec_diff = z_vector - x_obs_vector\n",
    "    return np.count_nonzero(vec_diff)\n",
    "\n",
    "def utility_u1_state_attraction_repulsion_function(alpha, beta, c, w1, w2, z_matrix, x_obs_vector):\n",
    "    u_part_1 = w1 * state_attraction_repulsion_f1(alpha, beta, c)\n",
    "    u_part_2 = w2 * f2_function(z_matrix, x_obs_vector)\n",
    "    return u_part_1 + u_part_2"
   ]
  },
  {
   "cell_type": "code",
   "execution_count": 118,
   "metadata": {},
   "outputs": [
    {
     "data": {
      "text/plain": [
       "array([1, 1, 0, 2, 0, 1])"
      ]
     },
     "execution_count": 118,
     "metadata": {},
     "output_type": "execute_result"
    }
   ],
   "source": [
    "Z_M = np.array([[1, 0, 0],\n",
    "                [0, 1, 0],\n",
    "                [1, 0, 0],\n",
    "                [0, 0, 1],\n",
    "                [1, 0, 0],\n",
    "                [0, 1, 0]])\n",
    "\n",
    "rho_M = np.array([[1,1,1],\n",
    "                 [1,0,1],\n",
    "                 [0,1,1],\n",
    "                 [0,1,0],\n",
    "                 [0,0,1],\n",
    "                 [1,0 ,0]])\n",
    "\n",
    "\n",
    "X_M = np.array([[0],\n",
    "               [1],\n",
    "               [0],\n",
    "               [2],\n",
    "               [0],\n",
    "               [1]])\n",
    "\n",
    "create_1st_part_y_t(Z_M,rho_M)+create_2nd_part_y_t(Z_M, rho_M, X_M)"
   ]
  },
  {
   "cell_type": "markdown",
   "metadata": {},
   "source": [
    "#### HMM"
   ]
  },
  {
   "cell_type": "code",
   "execution_count": 119,
   "metadata": {},
   "outputs": [],
   "source": [
    "from hmm_utils import *"
   ]
  },
  {
   "cell_type": "code",
   "execution_count": 120,
   "metadata": {},
   "outputs": [],
   "source": [
    "class HMM(hmm.MultinomialHMM):\n",
    "\n",
    "    '''\n",
    "    Builts HMM\n",
    "    Parameters\n",
    "    ----------\n",
    "    n_components : int\n",
    "        Number of hidden states\n",
    "    '''\n",
    "    \n",
    "    def __init__(self, n_components):\n",
    "        \n",
    "        super().__init__(n_components)\n",
    "  \n",
    "    def smoothing(self, X, t):\n",
    "        return self.predict_proba(X)[t]\n",
    "    \n",
    "    def alpha(self, X):\n",
    "\n",
    "        alphas = self._do_forward_pass( \n",
    "            self._compute_log_likelihood(X) )[1]\n",
    "\n",
    "        return alphas\n",
    "    \n",
    "    def beta(self, X):\n",
    "        \n",
    "        betas = self._do_backward_pass( \n",
    "            self._compute_log_likelihood(X) ) #REMOVE 0 FROM BETA\n",
    "            \n",
    "        return betas\n",
    "    \n",
    "    def nu(self, X):\n",
    "        V   = np.zeros([len(X), self.n_components]) \n",
    "        Ptr = np.zeros([len(X), self.n_components]) \n",
    "\n",
    "        lemissionprob_ = np.log(self.emissionprob_)\n",
    "        ltransmat_     = np.log(self.transmat_)\n",
    "        lstartprob_   = np.log(self.startprob_)\n",
    "\n",
    "        # Init\n",
    "        V[0] = lemissionprob_[:, X[0].item()] + lstartprob_\n",
    "\n",
    "        # Forward\n",
    "        for t in np.arange(1 , len(X) ):\n",
    "\n",
    "            V[t]   = ( lemissionprob_[:, X[t].item()] + \n",
    "                np.max( ltransmat_ + V[t-1], axis=1 ) )\n",
    "\n",
    "            Ptr[t] =  np.argmax( ltransmat_ + V[t-1], axis=1 )\n",
    "\n",
    "        # Backward\n",
    "\n",
    "        z_max = np.ones(len(X), dtype=int)\n",
    "\n",
    "        z_max[-1] = np.argmax(V[-1])\n",
    "\n",
    "        for t in np.arange(len(X)-2, -1, -1):    \n",
    "            z_max[t] = Ptr[t+1, z_max[t+1]]\n",
    "            \n",
    "        return V, z_max\n",
    "\n",
    "\n",
    "    def sample_mat(self, p, n=1, k=1000):\n",
    "        '''\n",
    "        Sample transition/emission matrix\n",
    "        Parameters\n",
    "        ----------\n",
    "        p : numpy.array\n",
    "            Each row is the mean of the Dirichlet we sample from.\n",
    "        n : int\n",
    "            Number of samples\n",
    "        k : int\n",
    "            The larget k the smaller the variance\n",
    "        '''\n",
    "\n",
    "        mat = np.zeros( [n, p.shape[0], p.shape[1]] )\n",
    "\n",
    "        for i in range(n):\n",
    "\n",
    "            mat[i] = np.apply_along_axis(lambda x: \n",
    "                np.random.dirichlet(x, 1), 1, k*p).reshape(p.shape[0],-1)\n",
    "\n",
    "        return mat\n",
    "    \n",
    "    def state_attraction_repulsion_f1(self,X,c):  ##NEED TO CORRECT\n",
    "        #compute in log probabilities terms\n",
    "        alpha_t_i = self.alpha(X) \n",
    "        beta_t_i = self.beta(X)\n",
    "        numerator = alpha_t_i + beta_t_i\n",
    "        denominator = 1/( np.sum(alpha_t_i + beta_t_i ,axis=1))\n",
    "        return c*((numerator.T * denominator).T)"
   ]
  },
  {
   "cell_type": "code",
   "execution_count": 121,
   "metadata": {},
   "outputs": [],
   "source": [
    "priors     = np.array([0.5,0.3,0.2])\n",
    "transition = np.array([[0.85, 0.05,0.1],\n",
    "                       [0.05, 0.9,0.05],\n",
    "                     [1/2, 1/4, 1/4]])\n",
    "emission   = np.array([[1/6, 1/6, 1/6, 1/6, 1/6, 1/6],\n",
    "                    [0.1, 0.1, 0.1, 0.1, 0.1, 0.5],\n",
    "                       [0.1, 0.1, 0.1, 0.1, 0.1, 0.5]])\n",
    "\n",
    "m = HMM(3)\n",
    "\n",
    "m.startprob_ = priors\n",
    "m.transmat_ = transition\n",
    "m.emissionprob_ = emission"
   ]
  },
  {
   "cell_type": "code",
   "execution_count": 130,
   "metadata": {},
   "outputs": [
    {
     "data": {
      "text/plain": [
       "array([[0],\n",
       "       [1],\n",
       "       [0],\n",
       "       [2],\n",
       "       [0]], dtype=int64)"
      ]
     },
     "execution_count": 130,
     "metadata": {},
     "output_type": "execute_result"
    }
   ],
   "source": [
    "Z_M  = np.array([[1, 0, 0],\n",
    "                [0, 1, 0],\n",
    "                [1, 0, 0],\n",
    "                [0, 0, 1],\n",
    "                [1, 0, 0]])\n",
    "\n",
    "X_V = m.sample(5)[0]\n",
    "\n",
    "\n",
    "rho_M = np.array([[1,1,1],\n",
    "                      [0,1,1],\n",
    "                      [1,0,1],\n",
    "                      [1,0,1],\n",
    "                      [0,0,1]])\n",
    "\n",
    "compute_y_t(Z_M, rho_M, X_V)"
   ]
  },
  {
   "cell_type": "code",
   "execution_count": 148,
   "metadata": {},
   "outputs": [
    {
     "data": {
      "text/plain": [
       "array([[0],\n",
       "       [0],\n",
       "       [0],\n",
       "       [0],\n",
       "       [0]], dtype=int64)"
      ]
     },
     "execution_count": 148,
     "metadata": {},
     "output_type": "execute_result"
    }
   ],
   "source": [
    "compute_y_t(Z_M, rho_M, X_V) - np.where(Z_M ==1)[1].reshape(5,1)"
   ]
  },
  {
   "cell_type": "code",
   "execution_count": 149,
   "metadata": {},
   "outputs": [
    {
     "data": {
      "text/plain": [
       "3"
      ]
     },
     "execution_count": 149,
     "metadata": {},
     "output_type": "execute_result"
    }
   ],
   "source": [
    "f2_function(Z_M, X_V)"
   ]
  }
 ],
 "metadata": {
  "kernelspec": {
   "display_name": "Python 3",
   "language": "python",
   "name": "python3"
  },
  "language_info": {
   "codemirror_mode": {
    "name": "ipython",
    "version": 3
   },
   "file_extension": ".py",
   "mimetype": "text/x-python",
   "name": "python",
   "nbconvert_exporter": "python",
   "pygments_lexer": "ipython3",
   "version": "3.8.5"
  }
 },
 "nbformat": 4,
 "nbformat_minor": 4
}
