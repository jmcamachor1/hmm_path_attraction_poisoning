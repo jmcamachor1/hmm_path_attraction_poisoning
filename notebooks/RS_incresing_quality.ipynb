{
 "cells": [
  {
   "cell_type": "code",
   "execution_count": 7,
   "metadata": {},
   "outputs": [],
   "source": [
    "import numpy as np\n",
    "from hmm_utils import HMM\n",
    "from attackers.smoothing_state_attacker import ss_attacker\n",
    "from attackers.decoding_attacker import dec_attacker\n",
    "from params import *\n",
    "from solvers.mc_ennumeration import MC_enumeration\n",
    "#from solvers.simulated_annealing import simulated_annealing\n",
    "#from solvers.aps_gibbs import aps_gibbs\n",
    "from solvers.nn_RS.nn_RS import *\n",
    "#from solvers.aps_gibbs_class import *\n",
    "\n",
    "from solvers.aps_gibbs_class_exp_decay import *\n",
    "from solvers.random_mc_ennumeration import *\n",
    "\n",
    "from scipy.special import softmax"
   ]
  },
  {
   "cell_type": "code",
   "execution_count": 8,
   "metadata": {},
   "outputs": [],
   "source": [
    "priors     = np.array([0.5,0.3,0.2])\n",
    "transition = np.array([[0.85, 0.05,0.1],\n",
    "                       [0.05, 0.9,0.05],\n",
    "                        [1/2, 1/4, 1/4]])\n",
    "emission   = np.array([[0.699, 0.05, 0.1, 0.05, 0.1, 0.001],\n",
    "                    [0.001, 0.1, 0.1, 0.299, 0.3, 0.2],\n",
    "                       [0.1, 0.2, 0.1, 0.2, 0.1, 0.3]])\n",
    "\n",
    "rho_probs = 0.95*np.ones(6)\n",
    "\n",
    "x_vector = np.array([ [4], [3], [5], [3], [4] ])"
   ]
  },
  {
   "cell_type": "code",
   "execution_count": 9,
   "metadata": {},
   "outputs": [],
   "source": [
    "hmm = HMM(n_components=3, n_obs=6 )\n",
    "hmm.emissionprob_ = emission\n",
    "hmm.transmat_     = transition\n",
    "hmm.startprob_    = priors"
   ]
  },
  {
   "cell_type": "code",
   "execution_count": 10,
   "metadata": {},
   "outputs": [
    {
     "data": {
      "text/plain": [
       "array([1, 1, 1, 1, 1])"
      ]
     },
     "execution_count": 10,
     "metadata": {},
     "output_type": "execute_result"
    }
   ],
   "source": [
    "V, seq = hmm.nu(x_vector)\n",
    "seq"
   ]
  },
  {
   "cell_type": "code",
   "execution_count": 11,
   "metadata": {},
   "outputs": [],
   "source": [
    "attacker = dec_attacker(priors, transition, emission, rho_probs,\n",
    "         x_vector, w1 = 100.0 ,w2 = 0.0 , seq = np.array([2,1,0,0,0]), k_value=10000)\n"
   ]
  },
  {
   "cell_type": "markdown",
   "metadata": {},
   "source": [
    "# RS with Neural Network"
   ]
  },
  {
   "cell_type": "code",
   "execution_count": 12,
   "metadata": {
    "scrolled": true
   },
   "outputs": [
    {
     "name": "stdout",
     "output_type": "stream",
     "text": [
      "Quality of best solution at time 5 is 621.093977\n",
      "Quality of best solution at time 10 is 621.093977\n",
      "Quality of best solution at time 15 is 621.098118\n",
      "Quality of best solution at time 20 is 621.139985\n",
      "Quality of best solution at time 25 is 621.209158\n",
      "Quality of best solution at time 30 is 621.209158\n",
      "Quality of best solution at time 35 is 622.549641\n",
      "Quality of best solution at time 40 is 622.549641\n",
      "Quality of best solution at time 45 is 622.549641\n",
      "Quality of best solution at time 50 is 702.150615\n",
      "Quality of best solution at time 55 is 702.150615\n",
      "Quality of best solution at time 60 is 702.467004\n",
      "Quality of best solution at time 65 is 702.467004\n",
      "Quality of best solution at time 70 is 713.865544\n",
      "Quality of best solution at time 75 is 722.296585\n",
      "Quality of best solution at time 80 is 722.296585\n",
      "Quality of best solution at time 85 is 722.296585\n",
      "Quality of best solution at time 90 is 722.296585\n",
      "Quality of best solution at time 95 is 751.288633\n"
     ]
    }
   ],
   "source": [
    "from solvers.nn_RS.nn_RS import *\n",
    "rs = nn_RS(attacker, flag='SA', RS_iters=5000, mcts_iters=50, sa_iters=100, eps=0.01, lr=0.1)\n",
    "deltaT = 5\n",
    "\n",
    "for t in np.arange(5, 100, deltaT):\n",
    "    \n",
    "    z_star, quality = rs.iterate(simulation_seconds = deltaT)\n",
    "    print(\"Quality of best solution at time {:d} is {:f}\".format(t, quality))\n",
    "    "
   ]
  },
  {
   "cell_type": "code",
   "execution_count": 14,
   "metadata": {},
   "outputs": [
    {
     "data": {
      "text/plain": [
       "array([2, 0, 0, 1, 1])"
      ]
     },
     "execution_count": 14,
     "metadata": {},
     "output_type": "execute_result"
    }
   ],
   "source": [
    "attack_obs = attacker.attack_X(np.ones_like(z_star), z_star)\n",
    "V, seq = hmm.nu(attack_obs.astype(int))\n",
    "seq"
   ]
  },
  {
   "cell_type": "code",
   "execution_count": null,
   "metadata": {},
   "outputs": [],
   "source": []
  }
 ],
 "metadata": {
  "kernelspec": {
   "display_name": "Python 3 (ipykernel)",
   "language": "python",
   "name": "python3"
  },
  "language_info": {
   "codemirror_mode": {
    "name": "ipython",
    "version": 3
   },
   "file_extension": ".py",
   "mimetype": "text/x-python",
   "name": "python",
   "nbconvert_exporter": "python",
   "pygments_lexer": "ipython3",
   "version": "3.9.7"
  }
 },
 "nbformat": 4,
 "nbformat_minor": 4
}
