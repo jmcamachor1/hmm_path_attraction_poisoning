{
 "cells": [
  {
   "cell_type": "code",
   "execution_count": 35,
   "metadata": {},
   "outputs": [],
   "source": [
    "import numpy as np"
   ]
  },
  {
   "cell_type": "markdown",
   "metadata": {},
   "source": [
    "####  $\\Large{\\alpha_{t,i}}$ "
   ]
  },
  {
   "cell_type": "code",
   "execution_count": 36,
   "metadata": {},
   "outputs": [],
   "source": [
    "\n",
    "def sum_obs_1st_part(b,z,rho,n_states = None,n_observations = None):\n",
    "    #b np.array shape-> (states,observation)\n",
    "    #z np.array shape (observation, 1)\n",
    "    #rho np.array shape (states,1)\n",
    "    b = b.reshape(n_states, n_observations)\n",
    "    z = z.reshape(n_observations,)\n",
    "    rho = rho.reshape(n_observations,)\n",
    "    return np.dot(b,z*rho)\n",
    "\n",
    "def sum_obs_nd_part(b,b_obs_col,z,rho, n_states = None, n_observations =None):\n",
    "    #b np.array shape-> (states,observation)\n",
    "    #z np.array shape (observation 1)\n",
    "    #rho np.array shape (states,1)\n",
    "    b = b.reshape(n_states, n_observations)\n",
    "    z = z.reshape(n_observations, )\n",
    "    rho = rho.reshape(n_observations, )\n",
    "    b_col_matrix = (np.ones(n_states*n_observations).reshape(n_states,n_observations)) * b[:,b_obs_col].reshape(n_states,1)\n",
    "    return np.dot(b_col_matrix,z*(1-rho))\n",
    "\n",
    "def compute_complete_obs_sum(b, b_obs_col,z,rho, n_states =None , n_observations= None):\n",
    "    fst_part =  sum_obs_1st_part(b,z,rho, n_states, n_observations)\n",
    "    snd_part = sum_obs_nd_part(b, b_obs_col,z,rho, n_states, n_observations)\n",
    "    return fst_part + snd_part\n",
    "\n",
    "def compute_log_alpha_1_i(b, b_obs_col, z, rho, pi, n_states, n_observations):\n",
    "    pi_vector = pi.reshape(1,n_states) \n",
    "    alpha_1_i = pi_vector * compute_complete_obs_sum(b, b_obs_col,z,rho, n_states , n_observations)\n",
    "    return np.log(alpha_1_i)\n",
    "\n",
    "\n",
    "def compute_A_alpha_minus_prod(alpha_minus_1,A_matrix,n_states):\n",
    "    #alpha_minus_1: shape ->(n_states,1)\n",
    "    #A_matrix: shape-> (n_states,n_states)\n",
    "    #n_states: int\n",
    "    alpha_minus_1 = alpha_minus_1.reshape(n_states,1)\n",
    "    A_matrix  = (np.log(A_matrix).reshape(n_states, n_states))\n",
    "    A_alpha_minus_prod = np.sum(alpha_minus_1 + A_matrix,axis=0)\n",
    "    return A_alpha_minus_prod\n",
    "\n",
    "def compute_alpha_t(alpha_minus_1,A_matrix,b, b_obs_col,z,rho, n_states =None , n_observations= None):\n",
    "    obs_sum = np.log(compute_complete_obs_sum(b, b_obs_col,z,rho, n_states, n_observations))\n",
    "    A_alpha_minus_prod = compute_A_alpha_minus_prod(alpha_minus_1, A_matrix,n_states)\n",
    "    return A_alpha_minus_prod + obs_sum\n",
    "\n",
    "def compute_alpha_t_i(A, B, pi ,z_vector, rho_vector, x_vector, t, n_states_, n_observations_):\n",
    "    lista_alpha = []\n",
    "    z_0 = z_vector[0]\n",
    "    rho_0 = rho_vector[0]\n",
    "    x_0 = x_vector[0]\n",
    "    alpha_t_i  = compute_log_alpha_1_i(B, x_0, z_0, rho_0, pi, n_states = n_states_, n_observations = n_observations_)\n",
    "    lista_alpha.append(list(alpha_t_i[0]))\n",
    "    for t in range(2,t+1):\n",
    "        z_i = z_vector[t-1]\n",
    "        rho_i = rho_vector[t-1]\n",
    "        x_i  = x_vector[t-1]\n",
    "        alpha_t_i = compute_alpha_t(alpha_t_i,A,B, x_i, z_i,rho_i, n_states=n_states_, n_observations=n_observations_)\n",
    "        lista_alpha.append(list(alpha_t_i))\n",
    "    return np.array(lista_alpha)\n",
    "\n"
   ]
  },
  {
   "cell_type": "markdown",
   "metadata": {},
   "source": [
    "$\\alpha_{1,i} = \\pi_i \\big(\\sum_{j\\in X}b_{i,j}z_{i,j}\\rho_{1,j} + b_{1,x_{1}}z_{1,j}(1-\\rho_{1,j})\\big)$\n",
    "\n",
    "$\\Omega_{t,i}  = \\big(\\sum_{j \\in X}b_{i,j}z_{t,j}\\rho_{t,j} + b_{i,x_{t}}z_{t,j}(1-\\rho_{t,j})\\big)$\n",
    "\n",
    "$\\alpha_{t,i} = \\Omega_{t,i} \\sum_{k\\in Q} \\alpha_{t-1,k}a_{k,i}$  \n",
    "\n",
    "$\\log{\\alpha_{t,i}} = \\log{\\Omega_{t,i}} + \\sum_{k\\in Q} \\log{\\alpha_{t-1,k}}+\\log{a_{k,i}} $\n",
    "\n",
    "$\\alpha_{t =1,i = 1} =\\small{\\pi_1 \\Big(\\big(b_{1,1}z_{1,1}\\rho_{1,1} + b_{1,x_1 =2}z_{1,2}(1 -\\rho_{1,1}) \\big)+ \\big(b_{1,2}z_{1,2}\\rho_{1,2} + b_{1,x_1 =2}z_{1,2}(1 -\\rho_{1,2}) \\big) + \\big(b_{1,3}z_{1,3}\\rho_{1,3} + b_{1,x_1 =2}z_{1,3}(1 -\\rho_{1,3}) \\big) \\Big)}$\n",
    "\n",
    "$\\alpha_{t =1,i = 2} =\\small{\\pi_2 \\Big(\\big(b_{2,1}z_{1,1}\\rho_{1,1} + b_{2,x_1 =2}z_{1,1}(1 -\\rho_{1,1}) \\big)+ \\big(b_{2,2}z_{1,2}\\rho_{1,2} + b_{2,x_1 =2}z_{1,2}(1 -\\rho_{1,2}) \\big) + \\big(b_{2,3}z_{1,3}\\rho_{1,3} + b_{2,x_1 =2}z_{1,3}(1 -\\rho_{1,3}) \\big) \\Big)}$\n",
    "\n",
    "$\\log{\\alpha_{t =2,i = 1}} =\\small{\\log{\\Omega_{2,1}} + \\log{\\alpha_{1,1}} + \\log{a_{1,1} + \\log{\\alpha_{1,2}} + \\log{a_{2,1}}}}$\n",
    "\n",
    "$\\small{\\Omega_{2,1} = b_{1,1}z_{2,1}\\rho_{2,1} + b_{1,x_{1}}z_{2,1}(1-\\rho_{2,1})+ b_{1,2}z_{2,2}\\rho_{2,2}+b_{1,x_{1}}z_{2,2}(1-\\rho_{2,2})+b_{1,3}z_{2,3}\\rho_{2,3}+b_{1,x_{1}}z_{2,3}(1-\\rho_{2,3})}$\n",
    "\n",
    "$\\log{\\alpha_{t =2,i = 2}} =\\small{\\log{\\Omega_{2,2}} + \\log{\\alpha_{1,1}} + \\log{a_{1,2} + \\log{\\alpha_{1,2}} + \\log{a_{2,2}}} }$\n",
    "\n",
    "$\\small{\\Omega_{2,2} = b_{2,1}z_{2,1}\\rho_{2,1} + b_{2,x_{1}}z_{2,1}(1-\\rho_{2,1})+ b_{2,2}z_{2,2}\\rho_{2,2}+b_{2,x_{1}}z_{2,2}(1-\\rho_{2,2})+b_{2,3}z_{2,3}\\rho_{2,3}+b_{2,x_{1}}z_{2,3}(1-\\rho_{2,3})}$\n",
    "\n",
    "\n",
    "-------------------------------------------------------------------------------------------------------------------\n",
    "\n",
    "\n",
    "\n"
   ]
  },
  {
   "cell_type": "markdown",
   "metadata": {},
   "source": [
    "a =  $\\left(\\begin{array}{cc} \n",
    "a_{11} & a_{12}\\\\\n",
    "a_{21} & a_{22}\n",
    "\\end{array}\\right)$ = $\\left(\\begin{array}{cc} \n",
    "0.4 & 0.6\\\\\n",
    "0.7 & 0.3\n",
    "\\end{array}\\right)$ \n",
    "\n",
    "b =  $\\left(\\begin{array}{ccc} \n",
    "b_{11} & b_{12} & b_{13}\\\\\n",
    "b_{21} & b_{22} & b_{23}\n",
    "\\end{array}\\right)$ = $\\left(\\begin{array}{cc} \n",
    "0.1 & 0.4 & 0.5\\\\\n",
    "0.4 & 0.5 & 0.1\n",
    "\\end{array}\\right)$ \n",
    "\n",
    "$\\pi  = \\left(\\begin{array}{cc} \n",
    "\\pi_{1} & \\pi_{12} \n",
    "\\end{array}\\right) = \\left(\\begin{array}{cc} \n",
    "0.7 & 0.3\n",
    "\\end{array}\\right)$\n",
    "\n",
    "$x_1 = 2$;\n",
    "$z_{1,j}  = \\left(\\begin{array}{ccc} \n",
    "z_{11} & z_{12} & z_{13}\n",
    "\\end{array}\\right) = \\left(\\begin{array}{ccc} \n",
    "0 & 0 & 1\n",
    "\\end{array}\\right)$;  $\\rho_{1,j} = \\left(\\begin{array}{ccc} \n",
    "\\rho_{11} & \\rho _{12} & \\rho_{13}\n",
    "\\end{array}\\right) = \\left(\\begin{array}{ccc} \n",
    "0 & 1 & 1\n",
    "\\end{array}\\right) $ ; \n",
    "\n",
    "\n",
    "$\\alpha_{t =1,i = 1}$ $ =\\small{ 0.7 \\Big( \\big( 0.1 \\times 0 \\times 0 + 0.4 \\times 0 \\times 1 \\big) + \\big( 0.4 \\times 0 \\times 1+ 0.4 \\times 0 \\times 0 \\big) +\\big( 0.5 \\times 1 \\times 1 + 0.4 \\times 1 \\times 0  \\big) \\big) = 0.7 \\times 0.5 = 0.35 }$\n",
    "\n",
    "$\\alpha_{t =1,i = 2}$ $ =\\small{ 0.3 \\Big( \\big( 0.4 \\times 0 \\times 0 + 0.5 \\times 0 \\times 1 \\big) + \\big( 0.5 \\times 0 \\times 1+ 0.5 \\times 0 \\times 0 \\big) +\\big( 0.1 \\times 1 \\times 1 + 0.5 \\times 1 \\times 0  \\big) \\big) = 0.3 \\times 0.1 = 0.03}$\n",
    "\n",
    "$\\log{\\alpha_{t =1,i = 1}} = \\log{0.35} = -1.0498 $\n",
    "\n",
    "$\\log{\\alpha_{t =1,i = 2}} = \\log{0.01} = -4.6051$"
   ]
  },
  {
   "cell_type": "code",
   "execution_count": 38,
   "metadata": {},
   "outputs": [],
   "source": [
    "A_matrix = np.array([[0.4,0.6],\n",
    "                    [0.7, 0.3]])\n",
    "\n",
    "B_matrix = np.array([[0.1, 0.4,0.5],\n",
    "                    [0.4,0.5,0.1]])\n",
    "\n",
    "pi_vector = np.array([0.7, 0.3])\n",
    "\n",
    "z_vector = np.array([0,0,1])\n",
    "\n",
    "rho_vector = np.array([0,1,1])\n",
    "\n",
    "x_0 = 1"
   ]
  },
  {
   "cell_type": "code",
   "execution_count": 39,
   "metadata": {},
   "outputs": [
    {
     "data": {
      "text/plain": [
       "array([0.5, 0.1])"
      ]
     },
     "execution_count": 39,
     "metadata": {},
     "output_type": "execute_result"
    }
   ],
   "source": [
    "sum_obs_1st_part(B_matrix,z_vector,rho_vector,n_states = 2,n_observations = 3)"
   ]
  },
  {
   "cell_type": "code",
   "execution_count": 40,
   "metadata": {},
   "outputs": [
    {
     "data": {
      "text/plain": [
       "array([0., 0.])"
      ]
     },
     "execution_count": 40,
     "metadata": {},
     "output_type": "execute_result"
    }
   ],
   "source": [
    "sum_obs_nd_part(B_h,x_0,z_h,rho_h, n_states = 2, n_observations =3)"
   ]
  },
  {
   "cell_type": "markdown",
   "metadata": {},
   "source": [
    "$x_2 = 3$ ;\n",
    "$z_{2,j}  = \\left(\\begin{array}{ccc} \n",
    "z_{21} & z_{22} & z_{23}\n",
    "\\end{array}\\right) = \\left(\\begin{array}{ccc} \n",
    "1 & 0 & 0\n",
    "\\end{array}\\right)$;  $\\rho_{2,j} = \\left(\\begin{array}{ccc} \n",
    "\\rho_{21} & \\rho _{22} & \\rho_{23}\n",
    "\\end{array}\\right) = \\left(\\begin{array}{ccc} \n",
    "1 & 1 & 1\n",
    "\\end{array}\\right) $ ; \n",
    "\n",
    "\n",
    "$\\small{\\Omega_{2,1} = 0.1 \\times 1 \\times 1 + 0.1 \\times 0 \\times 0+ 0.4 \\times 0 \\times 1 + 0.1 \\times 1 \\times 0 +0.5 \\times 0 \\times 1 +0.1 \\times 0 \\times 0} = 0.1$\n",
    "\n",
    "\n",
    "$\\small{\\Omega_{2,2} = 0.4 \\times 1 \\times 1 + 0.4 \\times 1 \\times 0 + 0.5 \\times 0 \\times 1 +0.4 \\times 0 \\times (1-1)+0.1 \\times 0 \\times 1+ 0.1 \\times 1 \\times 0} = 0.4$\n",
    "\n",
    "$\\log_{\\alpha_{2,1}} = \\log{0.1} +  (\\log{0.35} + \\log{0.4} + \\log{0.03} +\\log{0.7}) = -2.3025 -5.82934 = -8.1318 $\n",
    "\n",
    "\n",
    "$\\log_{\\alpha_{2,2}} = \\log{0.4} + (\\log{0.35} + \\log{0.6} + \\log{0.03} + \\log{0.3}) = -0.91629 -6.27117 = -7.18746 $"
   ]
  },
  {
   "cell_type": "code",
   "execution_count": 31,
   "metadata": {},
   "outputs": [
    {
     "data": {
      "text/plain": [
       "array([0.1, 0.4])"
      ]
     },
     "execution_count": 31,
     "metadata": {},
     "output_type": "execute_result"
    }
   ],
   "source": [
    "compute_complete_obs_sum(B_h,x_0,z_h,rho_h, n_states =2 , n_observations= 3)"
   ]
  },
  {
   "cell_type": "code",
   "execution_count": 8,
   "metadata": {},
   "outputs": [
    {
     "name": "stdout",
     "output_type": "stream",
     "text": [
      "[[-1.04982212 -3.5065579 ]]\n"
     ]
    }
   ],
   "source": [
    "alpha_1_i  = compute_log_alpha_1_i(B_h, x_0, z_h, rho_h, pi_h, n_states = 2, n_observations = 3)\n",
    "print(alpha_1_i)"
   ]
  },
  {
   "cell_type": "code",
   "execution_count": 26,
   "metadata": {},
   "outputs": [
    {
     "data": {
      "text/plain": [
       "-8.131930790625592"
      ]
     },
     "execution_count": 26,
     "metadata": {},
     "output_type": "execute_result"
    }
   ],
   "source": [
    "np.log(0.1)+np.log(0.35)+np.log(0.4)+np.log(0.03)+np.log(0.7) "
   ]
  },
  {
   "cell_type": "code",
   "execution_count": 10,
   "metadata": {},
   "outputs": [
    {
     "data": {
      "text/plain": [
       "-7.187468449910586"
      ]
     },
     "execution_count": 10,
     "metadata": {},
     "output_type": "execute_result"
    }
   ],
   "source": [
    "-0.91629+(np.log(0.35) +np.log(0.6) + np.log(0.03) + np.log(0.3))"
   ]
  },
  {
   "cell_type": "code",
   "execution_count": 14,
   "metadata": {},
   "outputs": [],
   "source": [
    "A_h = np.array([[0.4,0.6],\n",
    "                [0.7, 0.3]])\n",
    "\n",
    "B_h = np.array([[0.1, 0.4,0.5],\n",
    "                [0.4,0.5,0.1]])\n",
    "pi_h = np.array([0.7, 0.3])\n",
    "z_h = np.array([1,0,0])\n",
    "rho_h = np.array([1,1,1])\n",
    "x_1 = 2"
   ]
  },
  {
   "cell_type": "code",
   "execution_count": 16,
   "metadata": {},
   "outputs": [
    {
     "data": {
      "text/plain": [
       "array([-8.13193079, -7.18746918])"
      ]
     },
     "execution_count": 16,
     "metadata": {},
     "output_type": "execute_result"
    }
   ],
   "source": [
    "compute_alpha_t(alpha_1_i,A_h,B_h,x_1,z_h,rho_h,n_states=2,n_observations=3)"
   ]
  },
  {
   "cell_type": "code",
   "execution_count": 17,
   "metadata": {},
   "outputs": [],
   "source": [
    "A_h = np.array([[0.4,0.6],\n",
    "                [0.7, 0.3]])\n",
    "\n",
    "B_h = np.array([[0.1, 0.4,0.5],\n",
    "                [0.4,0.5,0.1]])\n",
    "pi_h = np.array([0.7, 0.3])\n",
    "z_h = np.array([1,0,0])\n",
    "rho_h = np.array([1,1,1])\n",
    "#x_0 = 1\n",
    "#x_1 = 2\n",
    "x_vector = [1,2]"
   ]
  },
  {
   "cell_type": "code",
   "execution_count": 18,
   "metadata": {},
   "outputs": [],
   "source": [
    "T = 20\n",
    "A_h = np.array([[0.4,0.6],\n",
    "                [0.7, 0.3]])\n",
    "\n",
    "B_h = np.array([[0.1, 0.4,0.5],\n",
    "                [0.4,0.5,0.1]])\n",
    "pi_h = np.array([0.7, 0.3])\n",
    "z_h = np.array([1,0,0])\n",
    "rho_h = np.array([1,1,1])\n",
    "x_obs = [1,2,0,1,2,1,2,1,0,1,0,1,2,1,0,0,1,0,0,1]\n",
    "lista_alpha = []\n",
    "alpha_t_i  = compute_log_alpha_1_i(B_h, x_0, z_h, rho_h, pi_h, n_states = 2, n_observations = 3)\n",
    "lista_alpha.append(list(alpha_t_i[0]))\n",
    "for t in range(2,T+1):\n",
    "    alpha_t_i = compute_alpha_t(alpha_t_i,A_h,B_h,x_obs[1],z_h,rho_h,n_states=2,n_observations=3)\n",
    "    lista_alpha.append(list(alpha_t_i))"
   ]
  },
  {
   "cell_type": "code",
   "execution_count": 20,
   "metadata": {},
   "outputs": [],
   "source": [
    "T = 2\n",
    "A_matrix= np.array([[0.4,0.6],\n",
    "                    [0.7, 0.3]])\n",
    "B_matrix = np.array([[0.1, 0.4,0.5],\n",
    "                     [0.4,0.5,0.1]])\n",
    "pi_vector = np.array([0.7, 0.3])\n",
    "z_vector = np.array([[1,0,0],\n",
    "                    [0,1,0]])\n",
    "rho_vector = np.array([[1,1,1],\n",
    "                 [1,1,1]])\n",
    "x_obs = [1,1]"
   ]
  },
  {
   "cell_type": "code",
   "execution_count": 21,
   "metadata": {},
   "outputs": [
    {
     "data": {
      "text/plain": [
       "array([0.4, 0.5])"
      ]
     },
     "execution_count": 21,
     "metadata": {},
     "output_type": "execute_result"
    }
   ],
   "source": [
    "B_matrix[:,1]"
   ]
  },
  {
   "cell_type": "code",
   "execution_count": 22,
   "metadata": {},
   "outputs": [
    {
     "data": {
      "text/plain": [
       "array([[-2.65926004, -2.12026354],\n",
       "       [-6.96877998, -7.18746918]])"
      ]
     },
     "execution_count": 22,
     "metadata": {},
     "output_type": "execute_result"
    }
   ],
   "source": [
    "compute_alpha_t_i(A = A_matrix,\n",
    "                  B =  B_matrix,\n",
    "                  pi =  pi_vector,\n",
    "                  z_vector =  z_vector,\n",
    "                  rho_vector =  rho_vector,\n",
    "                  x_vector = x_obs,\n",
    "                  t = 2, \n",
    "                  n_states_ = 2, \n",
    "                  n_observations_ = 3)"
   ]
  },
  {
   "cell_type": "code",
   "execution_count": 23,
   "metadata": {},
   "outputs": [
    {
     "data": {
      "text/plain": [
       "2"
      ]
     },
     "execution_count": 23,
     "metadata": {},
     "output_type": "execute_result"
    }
   ],
   "source": [
    "len(x_vector)"
   ]
  },
  {
   "cell_type": "code",
   "execution_count": 24,
   "metadata": {},
   "outputs": [
    {
     "data": {
      "text/plain": [
       "[[-2.6592600369327783, -2.120263536200091],\n",
       " [-8.355074341939803, -7.410612733098951],\n",
       " [-19.341237843845686, -18.396776235004836],\n",
       " [-41.31356484765745, -40.36910323881661],\n",
       " [-85.258218855281, -84.31375724644015],\n",
       " [-173.14752687052805, -172.20306526168724],\n",
       " [-348.9261429010222, -347.98168129218135],\n",
       " [-700.4833749620105, -699.5389133531696],\n",
       " [-1403.597839083987, -1402.6533774751463],\n",
       " [-2809.82676732794, -2808.8823057190993],\n",
       " [-5622.284623815846, -5621.340162207006],\n",
       " [-11247.200336791659, -11246.255875182818],\n",
       " [-22497.031762743285, -22496.087301134445],\n",
       " [-44996.694614646534, -44995.7501530377],\n",
       " [-89996.02031845304, -89995.0758568442],\n",
       " [-179994.671726066, -179993.7272644572],\n",
       " [-359991.974541292, -359991.0300796832],\n",
       " [-719986.580171744, -719985.6357101351],\n",
       " [-1439975.791432648, -1439974.846971039],\n",
       " [-2879954.2139544557, -2879953.269492847]]"
      ]
     },
     "execution_count": 24,
     "metadata": {},
     "output_type": "execute_result"
    }
   ],
   "source": [
    "lista_alpha"
   ]
  },
  {
   "cell_type": "code",
   "execution_count": null,
   "metadata": {},
   "outputs": [],
   "source": []
  },
  {
   "cell_type": "code",
   "execution_count": null,
   "metadata": {},
   "outputs": [],
   "source": []
  },
  {
   "cell_type": "code",
   "execution_count": null,
   "metadata": {},
   "outputs": [],
   "source": []
  }
 ],
 "metadata": {
  "kernelspec": {
   "display_name": "Python 3",
   "language": "python",
   "name": "python3"
  },
  "language_info": {
   "codemirror_mode": {
    "name": "ipython",
    "version": 3
   },
   "file_extension": ".py",
   "mimetype": "text/x-python",
   "name": "python",
   "nbconvert_exporter": "python",
   "pygments_lexer": "ipython3",
   "version": "3.8.5"
  }
 },
 "nbformat": 4,
 "nbformat_minor": 4
}
