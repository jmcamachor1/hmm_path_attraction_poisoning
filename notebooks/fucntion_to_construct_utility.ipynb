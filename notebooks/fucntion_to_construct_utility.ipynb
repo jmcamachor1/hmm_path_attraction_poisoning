{
 "cells": [
  {
   "cell_type": "code",
   "execution_count": 220,
   "metadata": {},
   "outputs": [],
   "source": [
    "import numpy as np\n",
    "from hmm_utils import *\n",
    "from itertools import product"
   ]
  },
  {
   "cell_type": "code",
   "execution_count": 221,
   "metadata": {},
   "outputs": [],
   "source": [
    "def compute_1st_part_y_t(z_matrix, rho_matrix, n_observations):\n",
    "    n_observations = z_matrix.shape[1]\n",
    "    j_obs = np.arange(0,n_observations)\n",
    "    return np.dot(z_matrix* rho_matrix, j_obs)\n",
    "\n",
    "def compute_2nd_part_y_t(z_matrix, rho_matrix, x_vector):\n",
    "    return np.sum(z_matrix *(1-rho_matrix)* x_vector, axis = 1)\n",
    "\n",
    "def compute_y_t(z_matrix, rho_matrix, x_vector):\n",
    "    t, n_obs = z_matrix.shape\n",
    "    y_t_1 = compute_1st_part_y_t(z_matrix, rho_matrix, n_obs)\n",
    "    y_t_2 = compute_2nd_part_y_t(z_matrix, rho_matrix, x_vector)\n",
    "    y_t = (y_t_1 + y_t_2).reshape(t,1)\n",
    "    return y_t\n",
    "\n",
    "def state_attraction_repulsion_f1(alpha_t,beta_t,c,state):\n",
    "    numerator = alpha_t + beta_t\n",
    "    denominator = np.sum(numerator ,axis=0)\n",
    "    result = c * (numerator - denominator)\n",
    "    return result[:,state]\n",
    "\n",
    "def f2_function(z_matrix, x_obs_vector):\n",
    "    t = z_matrix.shape[0]\n",
    "    z_vector = np.where(z_matrix == 1)[1].reshape(t,1)\n",
    "    vec_diff = z_vector - x_obs_vector\n",
    "    return np.count_nonzero(vec_diff)\n",
    "\n",
    "def utility_u1_state_attraction_repulsion_function(hmm, c, state, w1, w2, z_matrix, x_obs_vector):\n",
    "    alpha = hmm.alpha(x_obs_vector)\n",
    "    beta = hmm.beta(x_obs_vector)\n",
    "    u_part_1 = w1 * state_attraction_repulsion_f1(alpha, beta, c,state)\n",
    "    u_part_2 = w2 * f2_function(z_matrix, x_obs_vector)\n",
    "    return u_part_1 + u_part_2\n",
    "\n",
    "\n",
    "def generate_rho_sample(t, n_obs, theta_v = None, params_beta = {'a':1,'b':1}):\n",
    "    \n",
    "    if theta_v == None:\n",
    "        params_beta['size'] = n_obs\n",
    "        theta_v = np.random.beta(**params_beta)\n",
    "    list_sample = []    \n",
    "    for n in range(n_obs):\n",
    "        list_sample.append(np.random.choice([0,1],p=[theta_v[n],1-theta_v[n]],size=t))\n",
    "\n",
    "    return np.array(list_sample).T\n",
    "\n",
    "def generate_Z_set(n_obs,t):\n",
    "    diag_matrix =  np.diag(np.ones(n_obs))\n",
    "    z_elements  = np.split(diag_matrix, n_obs)\n",
    "    return list(product((z_elements), repeat = t))"
   ]
  },
  {
   "cell_type": "code",
   "execution_count": 222,
   "metadata": {},
   "outputs": [],
   "source": [
    "priors     = np.array([0.5,0.3,0.2])\n",
    "transition = np.array([[0.85, 0.05,0.1],\n",
    "                       [0.05, 0.9,0.05],\n",
    "                     [1/2, 1/4, 1/4]])\n",
    "emission   = np.array([[1/6, 1/6, 1/6, 1/6, 1/6, 1/6],\n",
    "                    [0.1, 0.1, 0.1, 0.1, 0.1, 0.5],\n",
    "                       [0.1, 0.1, 0.1, 0.1, 0.1, 0.5]])\n",
    "\n",
    "m = HMM(3)\n",
    "\n",
    "m.startprob_ = priors\n",
    "m.transmat_ = transition\n",
    "m.emissionprob_ = emission"
   ]
  },
  {
   "cell_type": "code",
   "execution_count": 223,
   "metadata": {},
   "outputs": [],
   "source": [
    "Z_M = np.array([[1, 0, 0],\n",
    "                [0, 1, 0],\n",
    "                [1, 0, 0],\n",
    "                [0, 0, 1],\n",
    "                [1, 0, 0],\n",
    "                [0, 1, 0]])\n",
    "\n",
    "rho_M = np.array([[1,1,1],\n",
    "                 [1,1,1],\n",
    "                 [0,1,1],\n",
    "                 [1,1,1],\n",
    "                 [1,1,1],\n",
    "                 [1,1 ,1]])\n",
    "\n",
    "\n",
    "X_M = np.array([[2],\n",
    "               [2],\n",
    "               [2],\n",
    "               [2],\n",
    "               [2],\n",
    "               [2]])"
   ]
  },
  {
   "cell_type": "code",
   "execution_count": 224,
   "metadata": {},
   "outputs": [
    {
     "data": {
      "text/plain": [
       "array([110.84240273, 108.24096227, 106.19843397, 104.26908223,\n",
       "       102.3589218 , 100.45406608])"
      ]
     },
     "execution_count": 224,
     "metadata": {},
     "output_type": "execute_result"
    }
   ],
   "source": [
    "utility_u1_state_attraction_repulsion_function(hmm = m, c = 1, state = 2, w1 = 1,w2 =2,z_matrix= Z_M,x_obs_vector =  X_M)"
   ]
  },
  {
   "cell_type": "code",
   "execution_count": 225,
   "metadata": {},
   "outputs": [
    {
     "data": {
      "text/plain": [
       "array([102.84240273, 100.24096227,  98.19843397,  96.26908223,\n",
       "        94.3589218 ,  92.45406608])"
      ]
     },
     "execution_count": 225,
     "metadata": {},
     "output_type": "execute_result"
    }
   ],
   "source": [
    "y_t = compute_y_t(z_matrix = Z_M, rho_matrix =rho_M, x_vector = X_M)\n",
    "utility_u1_state_attraction_repulsion_function(hmm = m, c = 1, state = 2, w1 = 1,w2 =2,z_matrix= Z_M,x_obs_vector =  y_t)"
   ]
  },
  {
   "cell_type": "code",
   "execution_count": 226,
   "metadata": {},
   "outputs": [],
   "source": [
    "n_obs = 5\n",
    "t = 5\n",
    "state = 1\n",
    "hmm_model = m\n",
    "c = 1\n",
    "n = 1\n",
    "Z_set = generate_Z_set(n_obs,t)\n",
    "x_vector = m.sample(t)[0]\n",
    "rho_matrix = generate_rho_sample(t, n_obs, theta_v = None, params_beta = {'a':1,'b':1})\n",
    "u_dict = {}\n",
    "for i,z in enumerate(Z_set):\n",
    "    z_matrix = np.array(z).reshape(t,n_obs)\n",
    "    y_t = compute_y_t(z_matrix, rho_matrix, x_vector).astype('int')\n",
    "    u_value = utility_u1_state_attraction_repulsion_function(hmm_model, c, state, 1, 2, z_matrix, y_t)\n",
    "    u_dict[i] = {'z':z_matrix, 'u':u_value}"
   ]
  },
  {
   "cell_type": "code",
   "execution_count": null,
   "metadata": {},
   "outputs": [],
   "source": []
  }
 ],
 "metadata": {
  "kernelspec": {
   "display_name": "Python 3",
   "language": "python",
   "name": "python3"
  },
  "language_info": {
   "codemirror_mode": {
    "name": "ipython",
    "version": 3
   },
   "file_extension": ".py",
   "mimetype": "text/x-python",
   "name": "python",
   "nbconvert_exporter": "python",
   "pygments_lexer": "ipython3",
   "version": "3.8.5"
  }
 },
 "nbformat": 4,
 "nbformat_minor": 4
}
