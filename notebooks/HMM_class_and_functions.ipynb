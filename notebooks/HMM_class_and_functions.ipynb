{
 "cells": [
  {
   "cell_type": "code",
   "execution_count": 1,
   "metadata": {},
   "outputs": [],
   "source": [
    "import numpy as np\n",
    "from hmmlearn import hmm"
   ]
  },
  {
   "cell_type": "code",
   "execution_count": 22,
   "metadata": {},
   "outputs": [],
   "source": [
    "priors_     = np.array([0.5,0.5])\n",
    "transition_ = np.array([[0.95, 0.05],[0.1, 0.9]])\n",
    "emission_   = np.array([[1/6, 1/6, 1/6, 1/6, 1/6, 1/6],\n",
    "                       [0.1, 0.1, 0.1, 0.1, 0.1, 0.5]])"
   ]
  },
  {
   "cell_type": "code",
   "execution_count": 65,
   "metadata": {},
   "outputs": [],
   "source": [
    "class HMM(hmm.MultinomialHMM):\n",
    "    \n",
    "    def __init__(self, n_components, priors=None, \n",
    "                 transition=None, xemission=None):\n",
    "        \n",
    "        super().__init__(n_components)\n",
    "        \n",
    "        if ( (priors is not None) & (transition is not None) \n",
    "            & (emission is not None) ):\n",
    "            \n",
    "            \n",
    "            self.startprob_ = priors\n",
    "            self.transmat_ = transition\n",
    "            self.emissionprob_ = emission\n",
    "            \n",
    "            print(\"Initialized with given A, B and pi\")\n",
    "\n",
    "            \n",
    "    def smoothing(self, X, t):\n",
    "        return self.predict_proba(X)[t]    \n",
    "        \n",
    "    def score_sequence_prob(self,X):\n",
    "        return np.exp(self.score(X))\n",
    "\n",
    "    \n",
    "    def alpha(self, X):\n",
    "        pass\n",
    "    \n",
    "    def beta(self, X):\n",
    "        pass\n",
    "    \n",
    "    def nu(self, X):\n",
    "        pass\n",
    "    \n"
   ]
  },
  {
   "cell_type": "code",
   "execution_count": 66,
   "metadata": {},
   "outputs": [
    {
     "name": "stdout",
     "output_type": "stream",
     "text": [
      "Initialized with given A, B and pi\n"
     ]
    }
   ],
   "source": [
    "HMM_model = HMM(n_components=2, priors = priors_, transition = transition_, xemission = emission_ )"
   ]
  },
  {
   "cell_type": "code",
   "execution_count": 67,
   "metadata": {},
   "outputs": [],
   "source": [
    " O_seq = np.atleast_2d([5, 0, 5, 2, 5, 5, 5, 5, 1, 5, 5, 4, 5, 2, 0, 3, 1]).T # sequence of observatons"
   ]
  },
  {
   "cell_type": "markdown",
   "metadata": {},
   "source": [
    "### Problem 1: Find P(O|$\\lambda$)"
   ]
  },
  {
   "cell_type": "code",
   "execution_count": 71,
   "metadata": {},
   "outputs": [
    {
     "data": {
      "text/plain": [
       "-25.284157353270203"
      ]
     },
     "execution_count": 71,
     "metadata": {},
     "output_type": "execute_result"
    }
   ],
   "source": [
    "(HMM_model.score(O_seq)) #Log likelihood of sequence of observations given model"
   ]
  },
  {
   "cell_type": "code",
   "execution_count": 101,
   "metadata": {},
   "outputs": [
    {
     "data": {
      "text/plain": [
       "1.0452736003492322e-11"
      ]
     },
     "execution_count": 101,
     "metadata": {},
     "output_type": "execute_result"
    }
   ],
   "source": [
    "HMM_model.score_sequence_prob(O_seq) #likelihood of sequence of observations given model"
   ]
  },
  {
   "cell_type": "code",
   "execution_count": 73,
   "metadata": {},
   "outputs": [
    {
     "data": {
      "text/plain": [
       "array([[0.08429674, 0.91570326],\n",
       "       [0.08912551, 0.91087449],\n",
       "       [0.05818631, 0.94181369],\n",
       "       [0.05880308, 0.94119692],\n",
       "       [0.02656823, 0.97343177],\n",
       "       [0.01688095, 0.98311905],\n",
       "       [0.01787908, 0.98212092],\n",
       "       [0.03078485, 0.96921515],\n",
       "       [0.07140148, 0.92859852],\n",
       "       [0.07606022, 0.92393978],\n",
       "       [0.12132934, 0.87867066],\n",
       "       [0.26264134, 0.73735866],\n",
       "       [0.3292623 , 0.6707377 ],\n",
       "       [0.55116884, 0.44883116],\n",
       "       [0.67063441, 0.32936559],\n",
       "       [0.72984675, 0.27015325],\n",
       "       [0.74971595, 0.25028405]])"
      ]
     },
     "execution_count": 73,
     "metadata": {},
     "output_type": "execute_result"
    }
   ],
   "source": [
    "HMM_model.predict_proba(O_seq) ## State-membership probabilities for each sample in X."
   ]
  },
  {
   "cell_type": "code",
   "execution_count": 117,
   "metadata": {},
   "outputs": [
    {
     "name": "stdout",
     "output_type": "stream",
     "text": [
      "-25.284157353270203\n",
      "[[0.08429674 0.91570326]\n",
      " [0.08912551 0.91087449]\n",
      " [0.05818631 0.94181369]\n",
      " [0.05880308 0.94119692]\n",
      " [0.02656823 0.97343177]\n",
      " [0.01688095 0.98311905]\n",
      " [0.01787908 0.98212092]\n",
      " [0.03078485 0.96921515]\n",
      " [0.07140148 0.92859852]\n",
      " [0.07606022 0.92393978]\n",
      " [0.12132934 0.87867066]\n",
      " [0.26264134 0.73735866]\n",
      " [0.3292623  0.6707377 ]\n",
      " [0.55116884 0.44883116]\n",
      " [0.67063441 0.32936559]\n",
      " [0.72984675 0.27015325]\n",
      " [0.74971595 0.25028405]]\n"
     ]
    }
   ],
   "source": [
    "log_likelihood_O, prob_O = HMM_model.score_samples(O_seq) \n",
    "print(log_likelihood_O) #Log likelihood of O.\n",
    "print(prob_O)  #State-membership probabilities for each sample in X."
   ]
  },
  {
   "cell_type": "code",
   "execution_count": 104,
   "metadata": {},
   "outputs": [
    {
     "data": {
      "text/plain": [
       "array([0.07140148, 0.92859852])"
      ]
     },
     "execution_count": 104,
     "metadata": {},
     "output_type": "execute_result"
    }
   ],
   "source": [
    "HMM_model.smoothing(O_seq,8) # state membership probability of 8th element of the sequence"
   ]
  },
  {
   "cell_type": "markdown",
   "metadata": {},
   "source": [
    "### Problem 2: Find optimal state sequence"
   ]
  },
  {
   "cell_type": "code",
   "execution_count": 75,
   "metadata": {},
   "outputs": [
    {
     "data": {
      "text/plain": [
       "array([1, 1, 1, 1, 1, 1, 1, 1, 1, 1, 1, 1, 1, 0, 0, 0, 0])"
      ]
     },
     "execution_count": 75,
     "metadata": {},
     "output_type": "execute_result"
    }
   ],
   "source": [
    "HMM_model.predict(O_seq) #most probable state sequence for the observations"
   ]
  },
  {
   "cell_type": "code",
   "execution_count": 76,
   "metadata": {},
   "outputs": [
    {
     "data": {
      "text/plain": [
       "(-27.02964121853847,\n",
       " array([1, 1, 1, 1, 1, 1, 1, 1, 1, 1, 1, 1, 1, 0, 0, 0, 0]))"
      ]
     },
     "execution_count": 76,
     "metadata": {},
     "output_type": "execute_result"
    }
   ],
   "source": [
    "log_prob, state_seq = HMM_model.decode(O_seq)  \n",
    "print(log_prob) #Log probability of the produced state sequence\n",
    "print(state_seq) # most probable state squence for the obsevations"
   ]
  },
  {
   "cell_type": "markdown",
   "metadata": {},
   "source": [
    "###  Problem 3: Train the model that best fit the data "
   ]
  },
  {
   "cell_type": "code",
   "execution_count": 81,
   "metadata": {},
   "outputs": [],
   "source": [
    "X = np.atleast_2d([5, 0, 5, 2, 3, 5, 5, 5, 5, 2, 3, 5, 3, 5, 0, 5, 4, 3, 2, 1, 5, 5, 5, 0, 5, 2, 5, 5, 5, 5, 1, 5, 5, 4, 5, 2, 0, 3, 1, 5, 3, 1, 3, 3, 2, 1, 1, 4, 5, 4, 4, 1, 0, 0, 2, 4, 1, 4, 3, 0, 5, 5, 1, 5, 5, 0, 2, 1, 5, 4, 5, 5, 5, 1, 5, 2, 2, 2, 4, 1, 0, 2, 4, 0, 2, 5, 3, 1, 4, 3, 0, 1, 4, 4, 5, 3, 2, 5, 2, 1, 1, 2, 4, 2, 2, 4, 1, 4, 5, 5, 3, 5, 4, 5, 4, 5, 4, 0, 0, 5, 3, 0, 0, 5, 0, 5, 5, 2, 1, 2, 0, 2, 2, 1, 5, 1, 5, 1, 0, 1, 3, 3, 1, 3, 3, 4, 4, 3, 5, 2, 0, 0, 5, 5, 5, 5, 5, 1, 5, 4, 2, 0, 2, 0, 2, 3, 1, 5, 0, 3, 5, 2, 5, 5, 4, 1, 1, 3, 3, 5, 0, 1, 2, 3, 3, 4, 3, 3, 1, 3, 5, 5, 4, 0, 3, 5, 5, 5, 1, 0, 4, 2, 1, 3, 0, 4, 0, 2, 1, 1, 2, 5, 2, 2, 2, 1, 1, 3, 3, 1, 1, 3, 0, 0, 4, 5, 4, 4, 5, 2, 4, 5, 2, 3, 1, 4, 2, 2, 0, 3, 5, 3, 5, 3, 1, 0, 4, 1, 1, 5, 1, 3, 2, 0, 3, 0, 0, 0, 3, 1, 3, 0, 4, 3, 4, 0, 2, 1, 0, 3, 2, 5, 5, 5, 1, 5, 1, 5, 1, 4, 4, 2, 1, 3, 3, 2, 2, 0, 5, 5, 5, 3, 5, 3, 5, 5, 5, 0, 1, 5]).T"
   ]
  },
  {
   "cell_type": "code",
   "execution_count": 106,
   "metadata": {},
   "outputs": [
    {
     "name": "stderr",
     "output_type": "stream",
     "text": [
      "C:\\Users\\Chema Camacho\\anaconda3\\lib\\site-packages\\sklearn\\base.py:209: FutureWarning: From version 0.24, get_params will raise an AttributeError if a parameter cannot be retrieved as an instance attribute. Previously it would return None.\n",
      "  warnings.warn('From version 0.24, get_params will raise an '\n"
     ]
    },
    {
     "data": {
      "text/plain": [
       "HMM(n_components=3)"
      ]
     },
     "execution_count": 106,
     "metadata": {},
     "output_type": "execute_result"
    }
   ],
   "source": [
    "HMM_f_model =  HMM(n_components=3) \n",
    "HMM_f_model.fit(X) ## fit a 3-state HMM on data X"
   ]
  },
  {
   "cell_type": "code",
   "execution_count": 109,
   "metadata": {},
   "outputs": [
    {
     "data": {
      "text/plain": [
       "array([[0.31865605, 0.30286052, 0.37848343],\n",
       "       [0.24866937, 0.39792277, 0.35340786],\n",
       "       [0.26944913, 0.41868907, 0.31186181]])"
      ]
     },
     "execution_count": 109,
     "metadata": {},
     "output_type": "execute_result"
    }
   ],
   "source": [
    "HMM_f_model.transmat_ #transition matrix of the fitted model"
   ]
  },
  {
   "cell_type": "code",
   "execution_count": 110,
   "metadata": {},
   "outputs": [
    {
     "data": {
      "text/plain": [
       "array([[0.11926812, 0.13967781, 0.30872685, 0.22861875, 0.08215298,\n",
       "        0.12155549],\n",
       "       [0.11304132, 0.10564188, 0.04748165, 0.19635751, 0.21197618,\n",
       "        0.32550145],\n",
       "       [0.17625603, 0.24511739, 0.12696216, 0.056373  , 0.05897747,\n",
       "        0.33631395]])"
      ]
     },
     "execution_count": 110,
     "metadata": {},
     "output_type": "execute_result"
    }
   ],
   "source": [
    "HMM_f_model.emissionprob_ #emission probabilities of the fitted model "
   ]
  },
  {
   "cell_type": "code",
   "execution_count": 114,
   "metadata": {},
   "outputs": [
    {
     "data": {
      "text/plain": [
       "array([5.66898483e-05, 4.06691389e-01, 5.93251921e-01])"
      ]
     },
     "execution_count": 114,
     "metadata": {},
     "output_type": "execute_result"
    }
   ],
   "source": [
    "HMM_f_model.startprob_ #initial probabilities of the fitted model"
   ]
  },
  {
   "cell_type": "code",
   "execution_count": 118,
   "metadata": {},
   "outputs": [
    {
     "data": {
      "text/plain": [
       "array([0.27511197, 0.37895378, 0.34593425])"
      ]
     },
     "execution_count": 118,
     "metadata": {},
     "output_type": "execute_result"
    }
   ],
   "source": [
    "HMM_f_model.get_stationary_distribution() #stationary distribution of states"
   ]
  },
  {
   "cell_type": "markdown",
   "metadata": {},
   "source": [
    "### Sample from the model"
   ]
  },
  {
   "cell_type": "code",
   "execution_count": 115,
   "metadata": {},
   "outputs": [],
   "source": [
    "obs_sequence, state_sequence = (HMM_f_model.sample(n_samples=12, random_state=20)) ### observations ### state sequence"
   ]
  },
  {
   "cell_type": "code",
   "execution_count": 116,
   "metadata": {},
   "outputs": [
    {
     "name": "stdout",
     "output_type": "stream",
     "text": [
      "[[5]\n",
      " [5]\n",
      " [3]\n",
      " [4]\n",
      " [1]\n",
      " [5]\n",
      " [5]\n",
      " [0]\n",
      " [3]\n",
      " [1]\n",
      " [5]\n",
      " [1]]\n",
      "[2 2 0 1 2 1 2 2 0 0 2 1]\n"
     ]
    }
   ],
   "source": [
    "print(obs_sequence); print(state_sequence)"
   ]
  }
 ],
 "metadata": {
  "kernelspec": {
   "display_name": "Python 3",
   "language": "python",
   "name": "python3"
  },
  "language_info": {
   "codemirror_mode": {
    "name": "ipython",
    "version": 3
   },
   "file_extension": ".py",
   "mimetype": "text/x-python",
   "name": "python",
   "nbconvert_exporter": "python",
   "pygments_lexer": "ipython3",
   "version": "3.8.5"
  }
 },
 "nbformat": 4,
 "nbformat_minor": 4
}
