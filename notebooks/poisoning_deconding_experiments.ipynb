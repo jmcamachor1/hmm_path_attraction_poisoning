{
 "cells": [
  {
   "cell_type": "code",
   "execution_count": 1,
   "metadata": {},
   "outputs": [],
   "source": [
    "from hmm_utils import HMM\n",
    "from poisoning_decoding_experiments_utils import *\n",
    "from poisoning_decoding_save_results_utils import *\n",
    "from params import *"
   ]
  },
  {
   "cell_type": "code",
   "execution_count": 2,
   "metadata": {},
   "outputs": [],
   "source": [
    "hmm = HMM(n_components=3, n_obs=6 )\n",
    "hmm.emissionprob_ = hmm_params['emission']\n",
    "hmm.transmat_     = hmm_params['transition']\n",
    "hmm.startprob_    = hmm_params['priors']"
   ]
  },
  {
   "cell_type": "code",
   "execution_count": 3,
   "metadata": {},
   "outputs": [],
   "source": [
    "res_d = jacc_d_w1_w2_ratio_contour_box_experiment(X = X_obs, \n",
    "                                                  hmm_D = hmm, \n",
    "                                                    rho_probs = cert_params['rho'],\n",
    "                                                    seq_ =params_exp['seq'],\n",
    "                                                    k_ = cert_params['k'], \n",
    "                                                    N1=params_exp['N1'],\n",
    "                                                    N2=params_exp['N2'], \n",
    "                                                    params_dict = params_exp)"
   ]
  },
  {
   "cell_type": "code",
   "execution_count": 4,
   "metadata": {},
   "outputs": [],
   "source": [
    "ratio_df = ratio_results_to_df_P2(res_d)\n",
    "ratio_df.to_csv('results/poisoning_decoding_ratio.csv', index = False)\n",
    "contour_df = contour_results_to_df_P2(res_d)\n",
    "contour_df.to_csv('results/poisoning_decoding_contour.csv', index = False)\n",
    "box_df = n_comp_to_results_P2(res_d)\n",
    "box_df.to_csv('results/poisoning_decoding_box.csv', index  = False)\n",
    "info_df = results_to_info_df_P2(res_d)\n",
    "info_df.to_csv('results/poisoning_decoding_info.csv', index  = False)"
   ]
  },
  {
   "cell_type": "code",
   "execution_count": null,
   "metadata": {},
   "outputs": [],
   "source": []
  }
 ],
 "metadata": {
  "kernelspec": {
   "display_name": "Python 3",
   "language": "python",
   "name": "python3"
  },
  "language_info": {
   "codemirror_mode": {
    "name": "ipython",
    "version": 3
   },
   "file_extension": ".py",
   "mimetype": "text/x-python",
   "name": "python",
   "nbconvert_exporter": "python",
   "pygments_lexer": "ipython3",
   "version": "3.8.5"
  }
 },
 "nbformat": 4,
 "nbformat_minor": 4
}
